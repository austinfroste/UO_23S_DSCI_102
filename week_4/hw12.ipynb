{
 "cells": [
  {
   "cell_type": "code",
   "execution_count": 1,
   "id": "0e5bf0d7",
   "metadata": {
    "tags": []
   },
   "outputs": [],
   "source": [
    "import otter\n",
    "grader = otter.Notebook()"
   ]
  },
  {
   "cell_type": "markdown",
   "id": "d16e0c48",
   "metadata": {},
   "source": [
    "# Homework 12: Advanced operations in pandas"
   ]
  },
  {
   "cell_type": "markdown",
   "id": "424994a7",
   "metadata": {},
   "source": [
    "## Due Date: Monday, May 1st, 11:59PM"
   ]
  },
  {
   "cell_type": "markdown",
   "id": "7763862e",
   "metadata": {},
   "source": [
    "## Collaboration Policy\n",
    "\n",
    "Data science is a collaborative activity. While you may talk with others about the homework, we ask that you **write your solutions individually**. If you do discuss the assignments with other students please include their names below."
   ]
  },
  {
   "cell_type": "markdown",
   "id": "e7a82e05",
   "metadata": {},
   "source": [
    "**Collaborators:** *list collaborators here*"
   ]
  },
  {
   "cell_type": "markdown",
   "id": "35ef5021",
   "metadata": {},
   "source": [
    "## Grading\n",
    "\n",
    "Grading is broken down into autograded answers and free response. \n",
    "\n",
    "For autograded answers, the results of your code are compared to provided and/or hidden tests. **For autograded probability questions, the provided tests will only check that your answer is within a reasonable range.**\n",
    "\n",
    "For free response, readers will evaluate how well you answered the question and/or fulfilled the requirements of the question.\n",
    "\n",
    "For plots, make sure to be as descriptive as possible: include titles, axes labels, and units wherever applicable."
   ]
  },
  {
   "cell_type": "code",
   "execution_count": 2,
   "id": "ad9ec325",
   "metadata": {
    "tags": []
   },
   "outputs": [
    {
     "data": {
      "text/plain": [
       "'imports completed'"
      ]
     },
     "execution_count": 2,
     "metadata": {},
     "output_type": "execute_result"
    }
   ],
   "source": [
    "import numpy as np\n",
    "import pandas as pd\n",
    "import matplotlib\n",
    "import matplotlib.pyplot as plt\n",
    "import seaborn as sns\n",
    "\n",
    "'imports completed'"
   ]
  },
  {
   "cell_type": "markdown",
   "id": "3082e9f9",
   "metadata": {},
   "source": [
    "## Introduction\n",
    "\n",
    "The purpose of this module is to expand your 'pandas' skillset by performing various new and old operations on 'pandas' dataframes. A lot of these operations will be things you've done before in the `datascience` package, so you should reference the included notebook to translate between the two if need be.\n",
    "\n",
    "You are expected to answer all relevant questions programatically *i.e.* use indexing and functions/methods to arrive to your answers. Your answers don't need to be in one single line, you may use as many intermediate steps as you need. "
   ]
  },
  {
   "cell_type": "markdown",
   "id": "c5ceb4e2",
   "metadata": {},
   "source": [
    "### Question 1"
   ]
  },
  {
   "cell_type": "markdown",
   "id": "c680dd9c",
   "metadata": {},
   "source": [
    "Reading in data from file is made easy in the `pandas` package. We have included two datasets in your assignment folder to read in, 'broadway.csv' and 'diseases.txt'. "
   ]
  },
  {
   "cell_type": "markdown",
   "id": "eeced5d4",
   "metadata": {},
   "source": [
    "#### Question 1.1\n",
    "\n",
    "Read in broadway using `pd.read_csv`."
   ]
  },
  {
   "cell_type": "code",
   "execution_count": 3,
   "id": "9cee286c",
   "metadata": {
    "tags": []
   },
   "outputs": [
    {
     "data": {
      "text/html": [
       "<div>\n",
       "<style scoped>\n",
       "    .dataframe tbody tr th:only-of-type {\n",
       "        vertical-align: middle;\n",
       "    }\n",
       "\n",
       "    .dataframe tbody tr th {\n",
       "        vertical-align: top;\n",
       "    }\n",
       "\n",
       "    .dataframe thead th {\n",
       "        text-align: right;\n",
       "    }\n",
       "</style>\n",
       "<table border=\"1\" class=\"dataframe\">\n",
       "  <thead>\n",
       "    <tr style=\"text-align: right;\">\n",
       "      <th></th>\n",
       "      <th>Day</th>\n",
       "      <th>Month</th>\n",
       "      <th>Year</th>\n",
       "      <th>Show.Name</th>\n",
       "      <th>Theatre</th>\n",
       "      <th>Show.Type</th>\n",
       "      <th>Attendance</th>\n",
       "      <th>Capacity</th>\n",
       "      <th>Gross</th>\n",
       "      <th>Gross Potential</th>\n",
       "      <th>Performances</th>\n",
       "    </tr>\n",
       "  </thead>\n",
       "  <tbody>\n",
       "    <tr>\n",
       "      <th>0</th>\n",
       "      <td>26</td>\n",
       "      <td>8</td>\n",
       "      <td>1990</td>\n",
       "      <td>Tru</td>\n",
       "      <td>Booth</td>\n",
       "      <td>Play</td>\n",
       "      <td>5500</td>\n",
       "      <td>88</td>\n",
       "      <td>134456</td>\n",
       "      <td>0</td>\n",
       "      <td>8</td>\n",
       "    </tr>\n",
       "    <tr>\n",
       "      <th>1</th>\n",
       "      <td>24</td>\n",
       "      <td>3</td>\n",
       "      <td>1991</td>\n",
       "      <td>Miss Saigon</td>\n",
       "      <td>Broadway</td>\n",
       "      <td>Musical</td>\n",
       "      <td>1737</td>\n",
       "      <td>100</td>\n",
       "      <td>100647</td>\n",
       "      <td>0</td>\n",
       "      <td>0</td>\n",
       "    </tr>\n",
       "    <tr>\n",
       "      <th>2</th>\n",
       "      <td>31</td>\n",
       "      <td>3</td>\n",
       "      <td>1991</td>\n",
       "      <td>Miss Saigon</td>\n",
       "      <td>Broadway</td>\n",
       "      <td>Musical</td>\n",
       "      <td>12160</td>\n",
       "      <td>100</td>\n",
       "      <td>634424</td>\n",
       "      <td>0</td>\n",
       "      <td>0</td>\n",
       "    </tr>\n",
       "    <tr>\n",
       "      <th>3</th>\n",
       "      <td>7</td>\n",
       "      <td>4</td>\n",
       "      <td>1991</td>\n",
       "      <td>Miss Saigon</td>\n",
       "      <td>Broadway</td>\n",
       "      <td>Musical</td>\n",
       "      <td>13921</td>\n",
       "      <td>100</td>\n",
       "      <td>713353</td>\n",
       "      <td>0</td>\n",
       "      <td>0</td>\n",
       "    </tr>\n",
       "    <tr>\n",
       "      <th>4</th>\n",
       "      <td>14</td>\n",
       "      <td>4</td>\n",
       "      <td>1991</td>\n",
       "      <td>Miss Saigon</td>\n",
       "      <td>Broadway</td>\n",
       "      <td>Musical</td>\n",
       "      <td>10973</td>\n",
       "      <td>90</td>\n",
       "      <td>573981</td>\n",
       "      <td>0</td>\n",
       "      <td>4</td>\n",
       "    </tr>\n",
       "    <tr>\n",
       "      <th>5</th>\n",
       "      <td>21</td>\n",
       "      <td>4</td>\n",
       "      <td>1991</td>\n",
       "      <td>Miss Saigon</td>\n",
       "      <td>Broadway</td>\n",
       "      <td>Musical</td>\n",
       "      <td>14076</td>\n",
       "      <td>101</td>\n",
       "      <td>706793</td>\n",
       "      <td>0</td>\n",
       "      <td>8</td>\n",
       "    </tr>\n",
       "  </tbody>\n",
       "</table>\n",
       "</div>"
      ],
      "text/plain": [
       "   Day  Month  Year    Show.Name   Theatre Show.Type  Attendance  Capacity  \\\n",
       "0   26      8  1990          Tru     Booth      Play        5500        88   \n",
       "1   24      3  1991  Miss Saigon  Broadway   Musical        1737       100   \n",
       "2   31      3  1991  Miss Saigon  Broadway   Musical       12160       100   \n",
       "3    7      4  1991  Miss Saigon  Broadway   Musical       13921       100   \n",
       "4   14      4  1991  Miss Saigon  Broadway   Musical       10973        90   \n",
       "5   21      4  1991  Miss Saigon  Broadway   Musical       14076       101   \n",
       "\n",
       "    Gross  Gross Potential  Performances  \n",
       "0  134456                0             8  \n",
       "1  100647                0             0  \n",
       "2  634424                0             0  \n",
       "3  713353                0             0  \n",
       "4  573981                0             4  \n",
       "5  706793                0             8  "
      ]
     },
     "execution_count": 3,
     "metadata": {},
     "output_type": "execute_result"
    }
   ],
   "source": [
    "broadway = pd.read_csv('broadway.csv')\n",
    "broadway.head(6)"
   ]
  },
  {
   "cell_type": "code",
   "execution_count": 4,
   "id": "62b0d3e2",
   "metadata": {
    "tags": []
   },
   "outputs": [
    {
     "data": {
      "text/html": [
       "<p><strong><pre style='display: inline;'>q1_1</pre></strong> passed! 🚀</p>"
      ],
      "text/plain": [
       "q1_1 results: All test cases passed!"
      ]
     },
     "execution_count": 4,
     "metadata": {},
     "output_type": "execute_result"
    }
   ],
   "source": [
    "grader.check(\"q1_1\")"
   ]
  },
  {
   "cell_type": "markdown",
   "id": "daf51984",
   "metadata": {},
   "source": [
    "#### Question 1.2\n",
    "\n",
    "Now read in the diseases dataset. Diseases is not a `.csv` but a `.txt` file *i.e.* a plain-text file. Because it's not `.csv`, we can't assume that the values are comma separated. Fortunately `pd.read_csv` can be used on any file. It may not parse the data correctly, but it may reveal the values that do separate entries. \n",
    "\n",
    "Identify the separator used in `diseases.txt` and use it to successfully read in your data with `pd.read_csv`."
   ]
  },
  {
   "cell_type": "code",
   "execution_count": 5,
   "id": "2510b294",
   "metadata": {
    "tags": []
   },
   "outputs": [
    {
     "data": {
      "text/html": [
       "<div>\n",
       "<style scoped>\n",
       "    .dataframe tbody tr th:only-of-type {\n",
       "        vertical-align: middle;\n",
       "    }\n",
       "\n",
       "    .dataframe tbody tr th {\n",
       "        vertical-align: top;\n",
       "    }\n",
       "\n",
       "    .dataframe thead th {\n",
       "        text-align: right;\n",
       "    }\n",
       "</style>\n",
       "<table border=\"1\" class=\"dataframe\">\n",
       "  <thead>\n",
       "    <tr style=\"text-align: right;\">\n",
       "      <th></th>\n",
       "      <th>disease</th>\n",
       "      <th>loc</th>\n",
       "      <th>number</th>\n",
       "      <th>population</th>\n",
       "      <th>year</th>\n",
       "    </tr>\n",
       "  </thead>\n",
       "  <tbody>\n",
       "    <tr>\n",
       "      <th>0</th>\n",
       "      <td>MEASLES</td>\n",
       "      <td>ALABAMA</td>\n",
       "      <td>8843</td>\n",
       "      <td>2640000</td>\n",
       "      <td>1928</td>\n",
       "    </tr>\n",
       "    <tr>\n",
       "      <th>1</th>\n",
       "      <td>MEASLES</td>\n",
       "      <td>ARIZONA</td>\n",
       "      <td>847</td>\n",
       "      <td>422000</td>\n",
       "      <td>1928</td>\n",
       "    </tr>\n",
       "    <tr>\n",
       "      <th>2</th>\n",
       "      <td>MEASLES</td>\n",
       "      <td>ARKANSAS</td>\n",
       "      <td>8899</td>\n",
       "      <td>1847000</td>\n",
       "      <td>1928</td>\n",
       "    </tr>\n",
       "    <tr>\n",
       "      <th>3</th>\n",
       "      <td>MEASLES</td>\n",
       "      <td>CALIFORNIA</td>\n",
       "      <td>3698</td>\n",
       "      <td>5344000</td>\n",
       "      <td>1928</td>\n",
       "    </tr>\n",
       "    <tr>\n",
       "      <th>4</th>\n",
       "      <td>MEASLES</td>\n",
       "      <td>COLORADO</td>\n",
       "      <td>2099</td>\n",
       "      <td>1014000</td>\n",
       "      <td>1928</td>\n",
       "    </tr>\n",
       "    <tr>\n",
       "      <th>5</th>\n",
       "      <td>MEASLES</td>\n",
       "      <td>CONNECTICUT</td>\n",
       "      <td>10014</td>\n",
       "      <td>1577000</td>\n",
       "      <td>1928</td>\n",
       "    </tr>\n",
       "  </tbody>\n",
       "</table>\n",
       "</div>"
      ],
      "text/plain": [
       "   disease          loc  number  population  year\n",
       "0  MEASLES      ALABAMA    8843     2640000  1928\n",
       "1  MEASLES      ARIZONA     847      422000  1928\n",
       "2  MEASLES     ARKANSAS    8899     1847000  1928\n",
       "3  MEASLES   CALIFORNIA    3698     5344000  1928\n",
       "4  MEASLES     COLORADO    2099     1014000  1928\n",
       "5  MEASLES  CONNECTICUT   10014     1577000  1928"
      ]
     },
     "execution_count": 5,
     "metadata": {},
     "output_type": "execute_result"
    }
   ],
   "source": [
    "separator = '\\t'\n",
    "diseases = pd.read_csv(\"diseases.txt\", sep = separator)\n",
    "diseases.head(6)"
   ]
  },
  {
   "cell_type": "code",
   "execution_count": 6,
   "id": "a35b0249",
   "metadata": {
    "tags": []
   },
   "outputs": [
    {
     "data": {
      "text/html": [
       "<p><strong><pre style='display: inline;'>q1_2</pre></strong> passed! 🙌</p>"
      ],
      "text/plain": [
       "q1_2 results: All test cases passed!"
      ]
     },
     "execution_count": 6,
     "metadata": {},
     "output_type": "execute_result"
    }
   ],
   "source": [
    "grader.check(\"q1_2\")"
   ]
  },
  {
   "cell_type": "markdown",
   "id": "1bbf3718",
   "metadata": {},
   "source": [
    "#### Question 1.3"
   ]
  },
  {
   "cell_type": "markdown",
   "id": "21b17fda",
   "metadata": {},
   "source": [
    "Read in the the DataFrame called **nst-est2016-alldata.csv** from the course Github. The url path to the repository is https://github.com/oregon-data-science/DSCI101/raw/main/data/. You should do this with `pd.read_csv`."
   ]
  },
  {
   "cell_type": "code",
   "execution_count": 7,
   "id": "40313d18",
   "metadata": {
    "tags": []
   },
   "outputs": [
    {
     "data": {
      "text/html": [
       "<div>\n",
       "<style scoped>\n",
       "    .dataframe tbody tr th:only-of-type {\n",
       "        vertical-align: middle;\n",
       "    }\n",
       "\n",
       "    .dataframe tbody tr th {\n",
       "        vertical-align: top;\n",
       "    }\n",
       "\n",
       "    .dataframe thead th {\n",
       "        text-align: right;\n",
       "    }\n",
       "</style>\n",
       "<table border=\"1\" class=\"dataframe\">\n",
       "  <thead>\n",
       "    <tr style=\"text-align: right;\">\n",
       "      <th></th>\n",
       "      <th>SUMLEV</th>\n",
       "      <th>REGION</th>\n",
       "      <th>DIVISION</th>\n",
       "      <th>STATE</th>\n",
       "      <th>NAME</th>\n",
       "      <th>CENSUS2010POP</th>\n",
       "      <th>ESTIMATESBASE2010</th>\n",
       "      <th>POPESTIMATE2010</th>\n",
       "      <th>POPESTIMATE2011</th>\n",
       "      <th>POPESTIMATE2012</th>\n",
       "      <th>...</th>\n",
       "      <th>RDOMESTICMIG2013</th>\n",
       "      <th>RDOMESTICMIG2014</th>\n",
       "      <th>RDOMESTICMIG2015</th>\n",
       "      <th>RDOMESTICMIG2016</th>\n",
       "      <th>RNETMIG2011</th>\n",
       "      <th>RNETMIG2012</th>\n",
       "      <th>RNETMIG2013</th>\n",
       "      <th>RNETMIG2014</th>\n",
       "      <th>RNETMIG2015</th>\n",
       "      <th>RNETMIG2016</th>\n",
       "    </tr>\n",
       "  </thead>\n",
       "  <tbody>\n",
       "    <tr>\n",
       "      <th>0</th>\n",
       "      <td>10</td>\n",
       "      <td>0</td>\n",
       "      <td>0</td>\n",
       "      <td>0</td>\n",
       "      <td>United States</td>\n",
       "      <td>308745538</td>\n",
       "      <td>308758105</td>\n",
       "      <td>309348193</td>\n",
       "      <td>311663358</td>\n",
       "      <td>313998379</td>\n",
       "      <td>...</td>\n",
       "      <td>0.000000</td>\n",
       "      <td>0.000000</td>\n",
       "      <td>0.000000</td>\n",
       "      <td>0.000000</td>\n",
       "      <td>2.750744</td>\n",
       "      <td>2.875599</td>\n",
       "      <td>2.773619</td>\n",
       "      <td>3.080812</td>\n",
       "      <td>3.242191</td>\n",
       "      <td>3.102874</td>\n",
       "    </tr>\n",
       "    <tr>\n",
       "      <th>1</th>\n",
       "      <td>20</td>\n",
       "      <td>1</td>\n",
       "      <td>0</td>\n",
       "      <td>0</td>\n",
       "      <td>Northeast Region</td>\n",
       "      <td>55317240</td>\n",
       "      <td>55318353</td>\n",
       "      <td>55388056</td>\n",
       "      <td>55632766</td>\n",
       "      <td>55829059</td>\n",
       "      <td>...</td>\n",
       "      <td>-3.894853</td>\n",
       "      <td>-5.164953</td>\n",
       "      <td>-5.949518</td>\n",
       "      <td>-6.432749</td>\n",
       "      <td>1.419121</td>\n",
       "      <td>0.406543</td>\n",
       "      <td>0.347440</td>\n",
       "      <td>-0.452752</td>\n",
       "      <td>-1.054607</td>\n",
       "      <td>-1.622592</td>\n",
       "    </tr>\n",
       "    <tr>\n",
       "      <th>2</th>\n",
       "      <td>20</td>\n",
       "      <td>2</td>\n",
       "      <td>0</td>\n",
       "      <td>0</td>\n",
       "      <td>Midwest Region</td>\n",
       "      <td>66927001</td>\n",
       "      <td>66929825</td>\n",
       "      <td>66978602</td>\n",
       "      <td>67153331</td>\n",
       "      <td>67332320</td>\n",
       "      <td>...</td>\n",
       "      <td>-1.908223</td>\n",
       "      <td>-2.603542</td>\n",
       "      <td>-3.550967</td>\n",
       "      <td>-3.410404</td>\n",
       "      <td>-1.070260</td>\n",
       "      <td>-0.986559</td>\n",
       "      <td>-0.170883</td>\n",
       "      <td>-0.670480</td>\n",
       "      <td>-1.516515</td>\n",
       "      <td>-1.440803</td>\n",
       "    </tr>\n",
       "    <tr>\n",
       "      <th>3</th>\n",
       "      <td>20</td>\n",
       "      <td>3</td>\n",
       "      <td>0</td>\n",
       "      <td>0</td>\n",
       "      <td>South Region</td>\n",
       "      <td>114555744</td>\n",
       "      <td>114563005</td>\n",
       "      <td>114863114</td>\n",
       "      <td>116061801</td>\n",
       "      <td>117299171</td>\n",
       "      <td>...</td>\n",
       "      <td>2.509746</td>\n",
       "      <td>3.134840</td>\n",
       "      <td>3.734763</td>\n",
       "      <td>3.476694</td>\n",
       "      <td>5.503053</td>\n",
       "      <td>5.892931</td>\n",
       "      <td>5.250346</td>\n",
       "      <td>6.164539</td>\n",
       "      <td>6.934299</td>\n",
       "      <td>6.499926</td>\n",
       "    </tr>\n",
       "    <tr>\n",
       "      <th>4</th>\n",
       "      <td>20</td>\n",
       "      <td>4</td>\n",
       "      <td>0</td>\n",
       "      <td>0</td>\n",
       "      <td>West Region</td>\n",
       "      <td>71945553</td>\n",
       "      <td>71946922</td>\n",
       "      <td>72118421</td>\n",
       "      <td>72815460</td>\n",
       "      <td>73537829</td>\n",
       "      <td>...</td>\n",
       "      <td>0.685330</td>\n",
       "      <td>1.237554</td>\n",
       "      <td>1.660075</td>\n",
       "      <td>2.229531</td>\n",
       "      <td>2.921718</td>\n",
       "      <td>3.493847</td>\n",
       "      <td>3.346142</td>\n",
       "      <td>4.214793</td>\n",
       "      <td>4.825324</td>\n",
       "      <td>5.210226</td>\n",
       "    </tr>\n",
       "    <tr>\n",
       "      <th>5</th>\n",
       "      <td>40</td>\n",
       "      <td>3</td>\n",
       "      <td>6</td>\n",
       "      <td>1</td>\n",
       "      <td>Alabama</td>\n",
       "      <td>4779736</td>\n",
       "      <td>4780131</td>\n",
       "      <td>4785492</td>\n",
       "      <td>4799918</td>\n",
       "      <td>4815960</td>\n",
       "      <td>...</td>\n",
       "      <td>0.335703</td>\n",
       "      <td>0.086842</td>\n",
       "      <td>-0.642255</td>\n",
       "      <td>-0.177829</td>\n",
       "      <td>0.709411</td>\n",
       "      <td>1.062617</td>\n",
       "      <td>1.202226</td>\n",
       "      <td>1.065267</td>\n",
       "      <td>0.411670</td>\n",
       "      <td>0.797351</td>\n",
       "    </tr>\n",
       "  </tbody>\n",
       "</table>\n",
       "<p>6 rows × 106 columns</p>\n",
       "</div>"
      ],
      "text/plain": [
       "   SUMLEV REGION DIVISION  STATE              NAME  CENSUS2010POP  \\\n",
       "0      10      0        0      0     United States      308745538   \n",
       "1      20      1        0      0  Northeast Region       55317240   \n",
       "2      20      2        0      0    Midwest Region       66927001   \n",
       "3      20      3        0      0      South Region      114555744   \n",
       "4      20      4        0      0       West Region       71945553   \n",
       "5      40      3        6      1           Alabama        4779736   \n",
       "\n",
       "   ESTIMATESBASE2010  POPESTIMATE2010  POPESTIMATE2011  POPESTIMATE2012  ...  \\\n",
       "0          308758105        309348193        311663358        313998379  ...   \n",
       "1           55318353         55388056         55632766         55829059  ...   \n",
       "2           66929825         66978602         67153331         67332320  ...   \n",
       "3          114563005        114863114        116061801        117299171  ...   \n",
       "4           71946922         72118421         72815460         73537829  ...   \n",
       "5            4780131          4785492          4799918          4815960  ...   \n",
       "\n",
       "   RDOMESTICMIG2013  RDOMESTICMIG2014  RDOMESTICMIG2015  RDOMESTICMIG2016  \\\n",
       "0          0.000000          0.000000          0.000000          0.000000   \n",
       "1         -3.894853         -5.164953         -5.949518         -6.432749   \n",
       "2         -1.908223         -2.603542         -3.550967         -3.410404   \n",
       "3          2.509746          3.134840          3.734763          3.476694   \n",
       "4          0.685330          1.237554          1.660075          2.229531   \n",
       "5          0.335703          0.086842         -0.642255         -0.177829   \n",
       "\n",
       "   RNETMIG2011  RNETMIG2012  RNETMIG2013  RNETMIG2014  RNETMIG2015  \\\n",
       "0     2.750744     2.875599     2.773619     3.080812     3.242191   \n",
       "1     1.419121     0.406543     0.347440    -0.452752    -1.054607   \n",
       "2    -1.070260    -0.986559    -0.170883    -0.670480    -1.516515   \n",
       "3     5.503053     5.892931     5.250346     6.164539     6.934299   \n",
       "4     2.921718     3.493847     3.346142     4.214793     4.825324   \n",
       "5     0.709411     1.062617     1.202226     1.065267     0.411670   \n",
       "\n",
       "   RNETMIG2016  \n",
       "0     3.102874  \n",
       "1    -1.622592  \n",
       "2    -1.440803  \n",
       "3     6.499926  \n",
       "4     5.210226  \n",
       "5     0.797351  \n",
       "\n",
       "[6 rows x 106 columns]"
      ]
     },
     "execution_count": 7,
     "metadata": {},
     "output_type": "execute_result"
    }
   ],
   "source": [
    "pop_census = pd.read_csv(\"https://github.com/oregon-data-science/DSCI101/raw/main/data/nst-est2016-alldata.csv\")\n",
    "pop_census.head(6)"
   ]
  },
  {
   "cell_type": "code",
   "execution_count": 8,
   "id": "0867554d",
   "metadata": {
    "tags": []
   },
   "outputs": [
    {
     "data": {
      "text/html": [
       "<p><strong><pre style='display: inline;'>q1_3</pre></strong> passed! ✨</p>"
      ],
      "text/plain": [
       "q1_3 results: All test cases passed!"
      ]
     },
     "execution_count": 8,
     "metadata": {},
     "output_type": "execute_result"
    }
   ],
   "source": [
    "grader.check(\"q1_3\")"
   ]
  },
  {
   "cell_type": "markdown",
   "id": "5fe6ebd3",
   "metadata": {},
   "source": [
    "This DataFrame gives census-based population estimates for each state on both July 1, 2015 and July 1, 2016. The last four columns describe the components of the estimated change in population during this time interval. **For all questions below, assume that the word \"states\" refers to all 52 rows including Puerto Rico & the District of Columbia.**\n",
    "\n",
    "The data was taken from [here](http://www2.census.gov/programs-surveys/popest/datasets/2010-2016/national/totals/nst-est2016-alldata.csv).\n",
    "\n",
    "If you want to read more about the different column descriptions, click [here](http://www2.census.gov/programs-surveys/popest/datasets/2010-2015/national/totals/nst-est2015-alldata.pdf)!"
   ]
  },
  {
   "cell_type": "markdown",
   "id": "d469ae3c",
   "metadata": {},
   "source": [
    "The raw data is a bit messy - run the cell below to clean the DataFrame and make it easier to work with."
   ]
  },
  {
   "cell_type": "code",
   "execution_count": 9,
   "id": "240b2a48",
   "metadata": {
    "tags": []
   },
   "outputs": [
    {
     "data": {
      "text/html": [
       "<div>\n",
       "<style scoped>\n",
       "    .dataframe tbody tr th:only-of-type {\n",
       "        vertical-align: middle;\n",
       "    }\n",
       "\n",
       "    .dataframe tbody tr th {\n",
       "        vertical-align: top;\n",
       "    }\n",
       "\n",
       "    .dataframe thead th {\n",
       "        text-align: right;\n",
       "    }\n",
       "</style>\n",
       "<table border=\"1\" class=\"dataframe\">\n",
       "  <thead>\n",
       "    <tr style=\"text-align: right;\">\n",
       "      <th></th>\n",
       "      <th>REGION</th>\n",
       "      <th>NAME</th>\n",
       "      <th>2015</th>\n",
       "      <th>2016</th>\n",
       "      <th>BIRTHS</th>\n",
       "      <th>DEATHS</th>\n",
       "      <th>MIGRATION</th>\n",
       "      <th>OTHER</th>\n",
       "    </tr>\n",
       "  </thead>\n",
       "  <tbody>\n",
       "    <tr>\n",
       "      <th>5</th>\n",
       "      <td>3</td>\n",
       "      <td>Alabama</td>\n",
       "      <td>4853875</td>\n",
       "      <td>4863300</td>\n",
       "      <td>58556</td>\n",
       "      <td>52405</td>\n",
       "      <td>3874</td>\n",
       "      <td>-600</td>\n",
       "    </tr>\n",
       "    <tr>\n",
       "      <th>6</th>\n",
       "      <td>4</td>\n",
       "      <td>Alaska</td>\n",
       "      <td>737709</td>\n",
       "      <td>741894</td>\n",
       "      <td>11255</td>\n",
       "      <td>4511</td>\n",
       "      <td>-2557</td>\n",
       "      <td>-2</td>\n",
       "    </tr>\n",
       "    <tr>\n",
       "      <th>7</th>\n",
       "      <td>4</td>\n",
       "      <td>Arizona</td>\n",
       "      <td>6817565</td>\n",
       "      <td>6931071</td>\n",
       "      <td>87204</td>\n",
       "      <td>56564</td>\n",
       "      <td>76405</td>\n",
       "      <td>6461</td>\n",
       "    </tr>\n",
       "    <tr>\n",
       "      <th>8</th>\n",
       "      <td>3</td>\n",
       "      <td>Arkansas</td>\n",
       "      <td>2977853</td>\n",
       "      <td>2988248</td>\n",
       "      <td>37936</td>\n",
       "      <td>30581</td>\n",
       "      <td>3530</td>\n",
       "      <td>-490</td>\n",
       "    </tr>\n",
       "    <tr>\n",
       "      <th>9</th>\n",
       "      <td>4</td>\n",
       "      <td>California</td>\n",
       "      <td>38993940</td>\n",
       "      <td>39250017</td>\n",
       "      <td>502848</td>\n",
       "      <td>273850</td>\n",
       "      <td>33530</td>\n",
       "      <td>-6451</td>\n",
       "    </tr>\n",
       "    <tr>\n",
       "      <th>10</th>\n",
       "      <td>4</td>\n",
       "      <td>Colorado</td>\n",
       "      <td>5448819</td>\n",
       "      <td>5540545</td>\n",
       "      <td>67453</td>\n",
       "      <td>37121</td>\n",
       "      <td>60773</td>\n",
       "      <td>621</td>\n",
       "    </tr>\n",
       "    <tr>\n",
       "      <th>11</th>\n",
       "      <td>1</td>\n",
       "      <td>Connecticut</td>\n",
       "      <td>3584730</td>\n",
       "      <td>3576452</td>\n",
       "      <td>35848</td>\n",
       "      <td>30638</td>\n",
       "      <td>-12822</td>\n",
       "      <td>-666</td>\n",
       "    </tr>\n",
       "    <tr>\n",
       "      <th>12</th>\n",
       "      <td>3</td>\n",
       "      <td>Delaware</td>\n",
       "      <td>944076</td>\n",
       "      <td>952065</td>\n",
       "      <td>10922</td>\n",
       "      <td>8945</td>\n",
       "      <td>5583</td>\n",
       "      <td>429</td>\n",
       "    </tr>\n",
       "    <tr>\n",
       "      <th>13</th>\n",
       "      <td>3</td>\n",
       "      <td>District of Columbia</td>\n",
       "      <td>670377</td>\n",
       "      <td>681170</td>\n",
       "      <td>9779</td>\n",
       "      <td>5455</td>\n",
       "      <td>6392</td>\n",
       "      <td>77</td>\n",
       "    </tr>\n",
       "    <tr>\n",
       "      <th>14</th>\n",
       "      <td>3</td>\n",
       "      <td>Florida</td>\n",
       "      <td>20244914</td>\n",
       "      <td>20612439</td>\n",
       "      <td>222793</td>\n",
       "      <td>201485</td>\n",
       "      <td>325986</td>\n",
       "      <td>20231</td>\n",
       "    </tr>\n",
       "    <tr>\n",
       "      <th>15</th>\n",
       "      <td>3</td>\n",
       "      <td>Georgia</td>\n",
       "      <td>10199398</td>\n",
       "      <td>10310371</td>\n",
       "      <td>130862</td>\n",
       "      <td>81525</td>\n",
       "      <td>60612</td>\n",
       "      <td>1024</td>\n",
       "    </tr>\n",
       "    <tr>\n",
       "      <th>16</th>\n",
       "      <td>4</td>\n",
       "      <td>Hawaii</td>\n",
       "      <td>1425157</td>\n",
       "      <td>1428557</td>\n",
       "      <td>18507</td>\n",
       "      <td>12237</td>\n",
       "      <td>-2583</td>\n",
       "      <td>-287</td>\n",
       "    </tr>\n",
       "  </tbody>\n",
       "</table>\n",
       "</div>"
      ],
      "text/plain": [
       "    REGION                  NAME      2015      2016  BIRTHS  DEATHS  \\\n",
       "5        3               Alabama   4853875   4863300   58556   52405   \n",
       "6        4                Alaska    737709    741894   11255    4511   \n",
       "7        4               Arizona   6817565   6931071   87204   56564   \n",
       "8        3              Arkansas   2977853   2988248   37936   30581   \n",
       "9        4            California  38993940  39250017  502848  273850   \n",
       "10       4              Colorado   5448819   5540545   67453   37121   \n",
       "11       1           Connecticut   3584730   3576452   35848   30638   \n",
       "12       3              Delaware    944076    952065   10922    8945   \n",
       "13       3  District of Columbia    670377    681170    9779    5455   \n",
       "14       3               Florida  20244914  20612439  222793  201485   \n",
       "15       3               Georgia  10199398  10310371  130862   81525   \n",
       "16       4                Hawaii   1425157   1428557   18507   12237   \n",
       "\n",
       "    MIGRATION  OTHER  \n",
       "5        3874   -600  \n",
       "6       -2557     -2  \n",
       "7       76405   6461  \n",
       "8        3530   -490  \n",
       "9       33530  -6451  \n",
       "10      60773    621  \n",
       "11     -12822   -666  \n",
       "12       5583    429  \n",
       "13       6392     77  \n",
       "14     325986  20231  \n",
       "15      60612   1024  \n",
       "16      -2583   -287  "
      ]
     },
     "execution_count": 9,
     "metadata": {},
     "output_type": "execute_result"
    }
   ],
   "source": [
    "# Don't change this cell; just run it.\n",
    "pop_sum_level = pop_census['SUMLEV'] == 40\n",
    "pop = pop_census[pop_sum_level]\n",
    "\n",
    "# grab a numbered list of columns to use\n",
    "columns_to_use = pop.columns[[1, 4, 12, 13, 27, 34, 62, 69]]\n",
    "pop = pop[columns_to_use] \n",
    "\n",
    "pop = pop.rename(columns={'POPESTIMATE2015': '2015',\n",
    "                          'POPESTIMATE2016': '2016',\n",
    "                          'BIRTHS2016': 'BIRTHS',\n",
    "                          'DEATHS2016': 'DEATHS',\n",
    "                          'NETMIG2016': 'MIGRATION',\n",
    "                          'RESIDUAL2016': 'OTHER'\n",
    "                        })\n",
    "#pop['REGION'].unique()\n",
    "pop['REGION'] = pop['REGION'].replace({'1':1, '2':2, '3':3, '4':4, 'X':0})\n",
    "pop.head(12)"
   ]
  },
  {
   "cell_type": "markdown",
   "id": "7c56e2d9",
   "metadata": {},
   "source": [
    "### Question 2 - Census data"
   ]
  },
  {
   "cell_type": "markdown",
   "id": "b165aeaa",
   "metadata": {},
   "source": [
    "**Question 2.1** Assign `us_birth_rate` to the total US annual birth rate during this time interval. The annual birth rate for a year-long period is the total number of births in that period as a proportion of the population size at the start of the time period.\n",
    "\n",
    "**Hint:** Which year corresponds to the start of the time period?"
   ]
  },
  {
   "cell_type": "code",
   "execution_count": 10,
   "id": "24786abe",
   "metadata": {},
   "outputs": [
    {
     "data": {
      "text/plain": [
       "0.012358536498646102"
      ]
     },
     "execution_count": 10,
     "metadata": {},
     "output_type": "execute_result"
    }
   ],
   "source": [
    "us_birth_rate = sum(pop['BIRTHS']) / sum(pop['2015'])\n",
    "us_birth_rate"
   ]
  },
  {
   "cell_type": "code",
   "execution_count": 11,
   "id": "261e6202",
   "metadata": {},
   "outputs": [
    {
     "data": {
      "text/html": [
       "<p><strong><pre style='display: inline;'>q2_1</pre></strong> passed! 🎉</p>"
      ],
      "text/plain": [
       "q2_1 results: All test cases passed!"
      ]
     },
     "execution_count": 11,
     "metadata": {},
     "output_type": "execute_result"
    }
   ],
   "source": [
    "grader.check(\"q2_1\")"
   ]
  },
  {
   "cell_type": "markdown",
   "id": "46bf33b4",
   "metadata": {},
   "source": [
    "**Question 2.2** Assign `movers` to the number of states for which the **absolute value** (`np.abs`) of the **annual rate of migration** was higher than 1%. The annual rate of migration for a year-long period is the net number of migrations (in and out) as a proportion of the population size at the start of the period. The `MIGRATION` column contains estimated annual net migration counts by state."
   ]
  },
  {
   "cell_type": "code",
   "execution_count": 12,
   "id": "59563c93",
   "metadata": {},
   "outputs": [
    {
     "data": {
      "text/plain": [
       "9"
      ]
     },
     "execution_count": 12,
     "metadata": {},
     "output_type": "execute_result"
    }
   ],
   "source": [
    "annual_migration_rate_abs = abs(pop['MIGRATION'] / pop['2015'])\n",
    "movers_over_1_percent = annual_migration_rate_abs > 0.01\n",
    "movers = movers_over_1_percent[movers_over_1_percent == True].shape[0]\n",
    "movers"
   ]
  },
  {
   "cell_type": "code",
   "execution_count": 13,
   "id": "828b02d8",
   "metadata": {},
   "outputs": [
    {
     "data": {
      "text/html": [
       "<p><strong><pre style='display: inline;'>q2_2</pre></strong> passed! 🙌</p>"
      ],
      "text/plain": [
       "q2_2 results: All test cases passed!"
      ]
     },
     "execution_count": 13,
     "metadata": {},
     "output_type": "execute_result"
    }
   ],
   "source": [
    "grader.check(\"q2_2\")"
   ]
  },
  {
   "cell_type": "markdown",
   "id": "468fa0ae",
   "metadata": {},
   "source": [
    "**Question 2.3** Assign `west_births` to the total number of births that occurred in region 4 (the Western US). \n",
    "\n",
    "**Hint:** Make sure you double check the type of the values in the region column, and appropriately filter (i.e. the types must match!)."
   ]
  },
  {
   "cell_type": "code",
   "execution_count": 14,
   "id": "74bbdc08",
   "metadata": {},
   "outputs": [
    {
     "data": {
      "text/plain": [
       "979657"
      ]
     },
     "execution_count": 14,
     "metadata": {},
     "output_type": "execute_result"
    }
   ],
   "source": [
    "west_region = pop.loc[(pop['REGION'] == 4)]\n",
    "west_births = sum(west_region['BIRTHS'])\n",
    "west_births"
   ]
  },
  {
   "cell_type": "code",
   "execution_count": 15,
   "id": "b554448a",
   "metadata": {},
   "outputs": [
    {
     "data": {
      "text/html": [
       "<p><strong><pre style='display: inline;'>q2_3</pre></strong> passed! ✨</p>"
      ],
      "text/plain": [
       "q2_3 results: All test cases passed!"
      ]
     },
     "execution_count": 15,
     "metadata": {},
     "output_type": "execute_result"
    }
   ],
   "source": [
    "grader.check(\"q2_3\")"
   ]
  },
  {
   "cell_type": "markdown",
   "id": "a03c07e5",
   "metadata": {},
   "source": [
    "**Question 4.** Assign `less_than_west_births` to the number of states that had a total population in 2016 that was smaller than the *total number of births in region 4 (the Western US)* during this time interval."
   ]
  },
  {
   "cell_type": "code",
   "execution_count": 16,
   "id": "efd3863c",
   "metadata": {},
   "outputs": [
    {
     "data": {
      "text/plain": [
       "7"
      ]
     },
     "execution_count": 16,
     "metadata": {},
     "output_type": "execute_result"
    }
   ],
   "source": [
    "were_less_than_west_births = pop['2016'] < west_births\n",
    "less_than_west_births = were_less_than_west_births[were_less_than_west_births == True].shape[0]\n",
    "less_than_west_births"
   ]
  },
  {
   "cell_type": "code",
   "execution_count": 17,
   "id": "66fa2d70",
   "metadata": {},
   "outputs": [
    {
     "data": {
      "text/html": [
       "<p><strong><pre style='display: inline;'>q2_4</pre></strong> passed! 🚀</p>"
      ],
      "text/plain": [
       "q2_4 results: All test cases passed!"
      ]
     },
     "execution_count": 17,
     "metadata": {},
     "output_type": "execute_result"
    }
   ],
   "source": [
    "grader.check(\"q2_4\")"
   ]
  },
  {
   "cell_type": "markdown",
   "id": "49502637",
   "metadata": {},
   "source": [
    "**Question 2.5** \n",
    "\n",
    "In the next question, you will be creating a visualization to understand the relationship between birth and death rates. The annual death rate for a year-long period is the total number of deaths in that period as a proportion of the population size at the start of the time period.\n",
    "\n",
    "What visualization is most appropriate to see if there is an association between birth and death rates during a given time interval?\n",
    "\n",
    "1. Line Graph\n",
    "<br>\n",
    "2. Scatter Plot\n",
    "<br>\n",
    "3. Bar Chart\n",
    "\n",
    "Assign `visualization` below to the number corresponding to the correct visualization."
   ]
  },
  {
   "cell_type": "code",
   "execution_count": 18,
   "id": "e2bd6d88",
   "metadata": {},
   "outputs": [],
   "source": [
    "visualization = 3"
   ]
  },
  {
   "cell_type": "code",
   "execution_count": 19,
   "id": "1a297556",
   "metadata": {},
   "outputs": [
    {
     "data": {
      "text/html": [
       "<p><strong><pre style='display: inline;'>q2_5</pre></strong> passed! 🌟</p>"
      ],
      "text/plain": [
       "q2_5 results: All test cases passed!"
      ]
     },
     "execution_count": 19,
     "metadata": {},
     "output_type": "execute_result"
    }
   ],
   "source": [
    "grader.check(\"q2_5\")"
   ]
  },
  {
   "cell_type": "markdown",
   "id": "74865a53",
   "metadata": {},
   "source": [
    "**Question 2.6** In the code cell below, create a visualization that will help us determine if there is an association between birth rate and death rate during this time interval. It may be helpful to create an intermediate DataFrame here."
   ]
  },
  {
   "cell_type": "code",
   "execution_count": 20,
   "id": "a7d28811-85d8-431d-aac4-207360807fe4",
   "metadata": {
    "tags": []
   },
   "outputs": [
    {
     "data": {
      "text/plain": [
       "0.008552340595679192"
      ]
     },
     "execution_count": 20,
     "metadata": {},
     "output_type": "execute_result"
    }
   ],
   "source": [
    "us_death_rate = sum(pop['DEATHS']) / sum(pop['2015'])\n",
    "us_death_rate"
   ]
  },
  {
   "cell_type": "code",
   "execution_count": 21,
   "id": "59b3a022-476b-4fdc-9a27-43cf94ce5411",
   "metadata": {
    "tags": []
   },
   "outputs": [],
   "source": [
    "birth_death_dict = {\n",
    "    'types': ['Birth', 'Death'],\n",
    "    'rates (as a proportion)': [us_birth_rate, us_death_rate]\n",
    "}\n",
    "birth_death = pd.DataFrame(birth_death_dict)"
   ]
  },
  {
   "cell_type": "code",
   "execution_count": 22,
   "id": "bb7898df",
   "metadata": {},
   "outputs": [
    {
     "data": {
      "text/plain": [
       "<Axes: xlabel='types', ylabel='rates (as a proportion)'>"
      ]
     },
     "execution_count": 22,
     "metadata": {},
     "output_type": "execute_result"
    },
    {
     "data": {
      "image/png": "[encoded data removed]",
      "text/plain": [
       "<Figure size 640x480 with 1 Axes>"
      ]
     },
     "metadata": {},
     "output_type": "display_data"
    }
   ],
   "source": [
    "# Generate your chart in this cell\n",
    "sns.set_palette(\"pastel\")\n",
    "sns.barplot(data=birth_death, x='types', y='rates (as a proportion)')"
   ]
  },
  {
   "cell_type": "markdown",
   "id": "12ba0009",
   "metadata": {},
   "source": [
    "### Question 3 - The diseases dataset"
   ]
  },
  {
   "cell_type": "markdown",
   "id": "2ce4a0f5",
   "metadata": {},
   "source": [
    "The U.S., as in many places, was once afflicted by many diseases (many of them viruses) that are no longer prominent today due to the advent of vaccines. Some of them such as Polio have been effectively eradicated while others like Measles affect so few individuals that they are largely irrelevant in the public health landscape. Notably, even though many of these diseases persist in the population (*e.g.* measles, mumps and rubella), they are sufficiently diluted by uninfected and/or vaccinated individuals to undermine any potential for an outbreak."
   ]
  },
  {
   "cell_type": "markdown",
   "id": "af934c63",
   "metadata": {},
   "source": [
    "#### Question 3.1"
   ]
  },
  {
   "cell_type": "markdown",
   "id": "c342ca9d",
   "metadata": {},
   "source": [
    "How many different diseases are represented in this dataset?"
   ]
  },
  {
   "cell_type": "code",
   "execution_count": 23,
   "id": "03cf75aa",
   "metadata": {},
   "outputs": [
    {
     "data": {
      "text/plain": [
       "7"
      ]
     },
     "execution_count": 23,
     "metadata": {},
     "output_type": "execute_result"
    }
   ],
   "source": [
    "num_diseases = pd.unique(diseases['disease']).shape[0]\n",
    "num_diseases"
   ]
  },
  {
   "cell_type": "code",
   "execution_count": 24,
   "id": "ae8c72a2",
   "metadata": {
    "scrolled": true
   },
   "outputs": [
    {
     "data": {
      "text/html": [
       "<p><strong><pre style='display: inline;'>q3_1</pre></strong> passed! 🙌</p>"
      ],
      "text/plain": [
       "q3_1 results: All test cases passed!"
      ]
     },
     "execution_count": 24,
     "metadata": {},
     "output_type": "execute_result"
    }
   ],
   "source": [
    "grader.check(\"q3_1\")"
   ]
  },
  {
   "cell_type": "markdown",
   "id": "81dd6d75",
   "metadata": {},
   "source": [
    "#### Question 3.2"
   ]
  },
  {
   "cell_type": "markdown",
   "id": "bcdd0996",
   "metadata": {},
   "source": [
    "We have disease prevalence in terms of total individuals infected in a year in a state. The absolute magnitude of infected individuals can be helpful, but it'll be easier to directly compare between diseases and states if we weight these values by total population. Create a new column in diseases called \"incidence_per\" representing the disease incidence (\"number\") as a percent of the state's population. \n",
    "\n",
    "*Hint*: If the variable is represented as a percent, then it should be between 0 and 100. "
   ]
  },
  {
   "cell_type": "code",
   "execution_count": 25,
   "id": "6f31e1d9",
   "metadata": {},
   "outputs": [
    {
     "data": {
      "text/html": [
       "<div>\n",
       "<style scoped>\n",
       "    .dataframe tbody tr th:only-of-type {\n",
       "        vertical-align: middle;\n",
       "    }\n",
       "\n",
       "    .dataframe tbody tr th {\n",
       "        vertical-align: top;\n",
       "    }\n",
       "\n",
       "    .dataframe thead th {\n",
       "        text-align: right;\n",
       "    }\n",
       "</style>\n",
       "<table border=\"1\" class=\"dataframe\">\n",
       "  <thead>\n",
       "    <tr style=\"text-align: right;\">\n",
       "      <th></th>\n",
       "      <th>disease</th>\n",
       "      <th>loc</th>\n",
       "      <th>number</th>\n",
       "      <th>population</th>\n",
       "      <th>year</th>\n",
       "      <th>incidence_per</th>\n",
       "    </tr>\n",
       "  </thead>\n",
       "  <tbody>\n",
       "    <tr>\n",
       "      <th>0</th>\n",
       "      <td>MEASLES</td>\n",
       "      <td>ALABAMA</td>\n",
       "      <td>8843</td>\n",
       "      <td>2640000</td>\n",
       "      <td>1928</td>\n",
       "      <td>0.003350</td>\n",
       "    </tr>\n",
       "    <tr>\n",
       "      <th>1</th>\n",
       "      <td>MEASLES</td>\n",
       "      <td>ARIZONA</td>\n",
       "      <td>847</td>\n",
       "      <td>422000</td>\n",
       "      <td>1928</td>\n",
       "      <td>0.002007</td>\n",
       "    </tr>\n",
       "    <tr>\n",
       "      <th>2</th>\n",
       "      <td>MEASLES</td>\n",
       "      <td>ARKANSAS</td>\n",
       "      <td>8899</td>\n",
       "      <td>1847000</td>\n",
       "      <td>1928</td>\n",
       "      <td>0.004818</td>\n",
       "    </tr>\n",
       "    <tr>\n",
       "      <th>3</th>\n",
       "      <td>MEASLES</td>\n",
       "      <td>CALIFORNIA</td>\n",
       "      <td>3698</td>\n",
       "      <td>5344000</td>\n",
       "      <td>1928</td>\n",
       "      <td>0.000692</td>\n",
       "    </tr>\n",
       "    <tr>\n",
       "      <th>4</th>\n",
       "      <td>MEASLES</td>\n",
       "      <td>COLORADO</td>\n",
       "      <td>2099</td>\n",
       "      <td>1014000</td>\n",
       "      <td>1928</td>\n",
       "      <td>0.002070</td>\n",
       "    </tr>\n",
       "    <tr>\n",
       "      <th>...</th>\n",
       "      <td>...</td>\n",
       "      <td>...</td>\n",
       "      <td>...</td>\n",
       "      <td>...</td>\n",
       "      <td>...</td>\n",
       "      <td>...</td>\n",
       "    </tr>\n",
       "    <tr>\n",
       "      <th>14260</th>\n",
       "      <td>PERTUSSIS</td>\n",
       "      <td>VIRGINIA</td>\n",
       "      <td>171</td>\n",
       "      <td>8096604</td>\n",
       "      <td>2011</td>\n",
       "      <td>0.000021</td>\n",
       "    </tr>\n",
       "    <tr>\n",
       "      <th>14261</th>\n",
       "      <td>PERTUSSIS</td>\n",
       "      <td>WASHINGTON</td>\n",
       "      <td>731</td>\n",
       "      <td>6830038</td>\n",
       "      <td>2011</td>\n",
       "      <td>0.000107</td>\n",
       "    </tr>\n",
       "    <tr>\n",
       "      <th>14262</th>\n",
       "      <td>PERTUSSIS</td>\n",
       "      <td>WEST VIRGINIA</td>\n",
       "      <td>37</td>\n",
       "      <td>1855364</td>\n",
       "      <td>2011</td>\n",
       "      <td>0.000020</td>\n",
       "    </tr>\n",
       "    <tr>\n",
       "      <th>14263</th>\n",
       "      <td>PERTUSSIS</td>\n",
       "      <td>WISCONSIN</td>\n",
       "      <td>351</td>\n",
       "      <td>5711767</td>\n",
       "      <td>2011</td>\n",
       "      <td>0.000061</td>\n",
       "    </tr>\n",
       "    <tr>\n",
       "      <th>14264</th>\n",
       "      <td>PERTUSSIS</td>\n",
       "      <td>WYOMING</td>\n",
       "      <td>7</td>\n",
       "      <td>568158</td>\n",
       "      <td>2011</td>\n",
       "      <td>0.000012</td>\n",
       "    </tr>\n",
       "  </tbody>\n",
       "</table>\n",
       "<p>14265 rows × 6 columns</p>\n",
       "</div>"
      ],
      "text/plain": [
       "         disease            loc  number  population  year  incidence_per\n",
       "0        MEASLES        ALABAMA    8843     2640000  1928       0.003350\n",
       "1        MEASLES        ARIZONA     847      422000  1928       0.002007\n",
       "2        MEASLES       ARKANSAS    8899     1847000  1928       0.004818\n",
       "3        MEASLES     CALIFORNIA    3698     5344000  1928       0.000692\n",
       "4        MEASLES       COLORADO    2099     1014000  1928       0.002070\n",
       "...          ...            ...     ...         ...   ...            ...\n",
       "14260  PERTUSSIS       VIRGINIA     171     8096604  2011       0.000021\n",
       "14261  PERTUSSIS     WASHINGTON     731     6830038  2011       0.000107\n",
       "14262  PERTUSSIS  WEST VIRGINIA      37     1855364  2011       0.000020\n",
       "14263  PERTUSSIS      WISCONSIN     351     5711767  2011       0.000061\n",
       "14264  PERTUSSIS        WYOMING       7      568158  2011       0.000012\n",
       "\n",
       "[14265 rows x 6 columns]"
      ]
     },
     "execution_count": 25,
     "metadata": {},
     "output_type": "execute_result"
    }
   ],
   "source": [
    "diseases[\"incidence_per\"] = diseases['number']/diseases['population']\n",
    "diseases"
   ]
  },
  {
   "cell_type": "code",
   "execution_count": 26,
   "id": "202c9698",
   "metadata": {},
   "outputs": [
    {
     "data": {
      "text/html": [
       "<p><strong><pre style='display: inline;'>q3_2</pre></strong> passed! 🎉</p>"
      ],
      "text/plain": [
       "q3_2 results: All test cases passed!"
      ]
     },
     "execution_count": 26,
     "metadata": {},
     "output_type": "execute_result"
    }
   ],
   "source": [
    "grader.check(\"q3_2\")"
   ]
  },
  {
   "cell_type": "markdown",
   "id": "d2b0b1f4",
   "metadata": {},
   "source": [
    "#### Question 3.3"
   ]
  },
  {
   "cell_type": "markdown",
   "id": "7a16609b",
   "metadata": {},
   "source": [
    "Using this new column you created, identify the disease that afflicted the greatest percentage of New York's population in 1928. Provide your answer as a string. "
   ]
  },
  {
   "cell_type": "code",
   "execution_count": 27,
   "id": "29676db3",
   "metadata": {},
   "outputs": [
    {
     "data": {
      "text/plain": [
       "'MEASLES'"
      ]
     },
     "execution_count": 27,
     "metadata": {},
     "output_type": "execute_result"
    }
   ],
   "source": [
    "ny_and_1928 = diseases[(diseases['loc'] == 'NEW YORK') & (diseases['year'] == 1928)]\n",
    "worst_disease = ny_and_1928[ny_and_1928['incidence_per'] == np.max(ny_and_1928[\"incidence_per\"])]\n",
    "worst_ny_disease_1928 = worst_disease['disease'].to_numpy()[0]\n",
    "worst_ny_disease_1928"
   ]
  },
  {
   "cell_type": "code",
   "execution_count": 28,
   "id": "b2551027",
   "metadata": {},
   "outputs": [
    {
     "data": {
      "text/html": [
       "<p><strong><pre style='display: inline;'>q3_3</pre></strong> passed! 🌟</p>"
      ],
      "text/plain": [
       "q3_3 results: All test cases passed!"
      ]
     },
     "execution_count": 28,
     "metadata": {},
     "output_type": "execute_result"
    }
   ],
   "source": [
    "grader.check(\"q3_3\")"
   ]
  },
  {
   "cell_type": "markdown",
   "id": "e309ab90",
   "metadata": {},
   "source": [
    "#### Question 3.4\n",
    "\n",
    "Between the years 1928 and 1938 inclusive, which U.S. state had the highest average incidence of polio as a percentage of its total population?"
   ]
  },
  {
   "cell_type": "code",
   "execution_count": 29,
   "id": "57822351",
   "metadata": {},
   "outputs": [
    {
     "data": {
      "text/plain": [
       "'CONNECTICUT'"
      ]
     },
     "execution_count": 29,
     "metadata": {},
     "output_type": "execute_result"
    }
   ],
   "source": [
    "only_polio = diseases[diseases['disease'] == 'POLIO']\n",
    "years_range = only_polio[(only_polio['year'] >= 1928) & (only_polio['year'] <= 1938)]\n",
    "worst_state = years_range[years_range['incidence_per'] == np.max(years_range['incidence_per'])]\n",
    "worst_polio_state = worst_state['loc'].to_numpy()[0]\n",
    "worst_polio_state"
   ]
  },
  {
   "cell_type": "code",
   "execution_count": 30,
   "id": "b8ff6fbe",
   "metadata": {},
   "outputs": [
    {
     "data": {
      "text/html": [
       "<p><strong><pre style='display: inline;'>q3_4</pre></strong> passed! ✨</p>"
      ],
      "text/plain": [
       "q3_4 results: All test cases passed!"
      ]
     },
     "execution_count": 30,
     "metadata": {},
     "output_type": "execute_result"
    }
   ],
   "source": [
    "grader.check(\"q3_4\")"
   ]
  },
  {
   "cell_type": "markdown",
   "id": "6ebd582f",
   "metadata": {},
   "source": [
    "#### Question 3.5\n",
    "\n",
    "Identify the **first** year in which Polio was effectively eradicated in the US (fewer than 100 total cases). "
   ]
  },
  {
   "cell_type": "code",
   "execution_count": 31,
   "id": "6cf542c2",
   "metadata": {},
   "outputs": [
    {
     "data": {
      "text/plain": [
       "1965"
      ]
     },
     "execution_count": 31,
     "metadata": {},
     "output_type": "execute_result"
    }
   ],
   "source": [
    "merge_by_year = diseases[diseases['disease'] == 'POLIO'].groupby(['year']).sum('number').reset_index()\n",
    "polio_eradicated = merge_by_year[merge_by_year['number'] < 100]['year'].to_numpy()[0]\n",
    "first_year_eradicated = polio_eradicated\n",
    "first_year_eradicated"
   ]
  },
  {
   "cell_type": "code",
   "execution_count": 32,
   "id": "c3d22122",
   "metadata": {
    "scrolled": true
   },
   "outputs": [
    {
     "data": {
      "text/html": [
       "<p><strong><pre style='display: inline;'>q3_5</pre></strong> passed! 💯</p>"
      ],
      "text/plain": [
       "q3_5 results: All test cases passed!"
      ]
     },
     "execution_count": 32,
     "metadata": {},
     "output_type": "execute_result"
    }
   ],
   "source": [
    "grader.check(\"q3_5\")"
   ]
  },
  {
   "cell_type": "markdown",
   "id": "844945f9",
   "metadata": {},
   "source": [
    "Measles is a highly infectious viral disease that, historically, was once one of the most prominent childhood illnesses globally.\n",
    "\n",
    "Prior to the development of a vaccine for measles, it was more or less a fact of life for children. The disease was a constant blight that perpetuated itself in large boom-bust cycles of disease outbreaks. However, the first measles vaccine was approved for distribution in 1963, which would have dramatic consequences for the future of measles' presence in the public-health landscape. \n",
    "\n",
    "The $R_0$ of a disease represents how many people we can expect to be infected by a single contagious individual under average conditions in a uniformly susceptible population (no vaccinations or aquired immunity). Measles has an $R_0$ = 18 - an incredibly high value that indicates it is among the most infectious diseases that affect humans. For reference, the $R_0$ for a typical year's flu is 1. "
   ]
  },
  {
   "cell_type": "markdown",
   "id": "9a595ca0",
   "metadata": {},
   "source": [
    "![R_0 for multiple human diseases](./r_0.jpg)"
   ]
  },
  {
   "cell_type": "code",
   "execution_count": 33,
   "id": "8051643b",
   "metadata": {},
   "outputs": [
    {
     "data": {
      "image/png": "[encoded data removed]",
      "text/plain": [
       "<Figure size 640x480 with 1 Axes>"
      ]
     },
     "metadata": {},
     "output_type": "display_data"
    }
   ],
   "source": [
    "measles_sum = diseases[diseases[\"disease\"] == \"MEASLES\"].groupby([\"year\"]).sum(\"number\").reset_index()\n",
    "                   \n",
    "sns.lineplot(data = measles_sum, x = \"year\", y = \"number\")\n",
    "plt.ylabel(\"Number of Cases (US)\")\n",
    "plt.axvline(x = 1963, color = \"black\", linestyle = \"dashed\");"
   ]
  },
  {
   "cell_type": "markdown",
   "id": "217fbea2",
   "metadata": {},
   "source": [
    "Clearly the MMR vaccine was incredibly successful at reducing and eventually eliminating Measles outbreaks. "
   ]
  },
  {
   "cell_type": "markdown",
   "id": "07927817",
   "metadata": {},
   "source": [
    "### Question 4 - The broadway dataset"
   ]
  },
  {
   "cell_type": "markdown",
   "id": "98fb4610",
   "metadata": {},
   "source": [
    "The broadway dataset contains all plays put into production on Broadway between the years 1990 and 2016."
   ]
  },
  {
   "cell_type": "code",
   "execution_count": 34,
   "id": "876423f6",
   "metadata": {
    "tags": []
   },
   "outputs": [
    {
     "name": "stdout",
     "output_type": "stream",
     "text": [
      "Over this time period there were 820 different shows put on Broadway.\n"
     ]
    }
   ],
   "source": [
    "print(f\"Over this time period there were {len(broadway['Show.Name'].unique())} different shows put on Broadway.\")"
   ]
  },
  {
   "cell_type": "markdown",
   "id": "7fb1227d",
   "metadata": {},
   "source": [
    "That's a lot of shows! Presumably there were some hits and some duds. Let's separate the wheat from the chaff and identify those shows that performed the best. But how do we define best?"
   ]
  },
  {
   "cell_type": "markdown",
   "id": "d600c099",
   "metadata": {},
   "source": [
    "#### Question 4.1"
   ]
  },
  {
   "cell_type": "markdown",
   "id": "a5238b3e",
   "metadata": {},
   "source": [
    "Create a **Series** of plays in order of most to least total gross. "
   ]
  },
  {
   "cell_type": "code",
   "execution_count": 35,
   "id": "46181291",
   "metadata": {},
   "outputs": [
    {
     "data": {
      "text/plain": [
       "0                              Wicked\n",
       "1        Spider-Man Turn Off The Dark\n",
       "2                       The Lion King\n",
       "3                             Aladdin\n",
       "4                            Hamilton\n",
       "                    ...              \n",
       "815              The Play'S The Thing\n",
       "816    As Long As We Both Shall Laugh\n",
       "817                School For Scandal\n",
       "818               Buttons On Broadway\n",
       "819                      A Mom'S Life\n",
       "Length: 820, dtype: object"
      ]
     },
     "execution_count": 35,
     "metadata": {},
     "output_type": "execute_result"
    }
   ],
   "source": [
    "broadway_grosses = pd.Series(broadway.sort_values(by='Gross', ascending=False)['Show.Name'].unique())\n",
    "broadway_grosses"
   ]
  },
  {
   "cell_type": "code",
   "execution_count": 36,
   "id": "9bac653b",
   "metadata": {
    "scrolled": true
   },
   "outputs": [
    {
     "data": {
      "text/html": [
       "<p><strong><pre style='display: inline;'>q4_1</pre></strong> passed! 🎉</p>"
      ],
      "text/plain": [
       "q4_1 results: All test cases passed!"
      ]
     },
     "execution_count": 36,
     "metadata": {},
     "output_type": "execute_result"
    }
   ],
   "source": [
    "grader.check(\"q4_1\")"
   ]
  },
  {
   "cell_type": "markdown",
   "id": "c62c2850",
   "metadata": {},
   "source": [
    "#### Question 4.2"
   ]
  },
  {
   "cell_type": "markdown",
   "id": "fedd21e2",
   "metadata": {},
   "source": [
    "Now create a **Series** of plays in order of most to least average amount grossed *per* seat filled (Gross / Attendance)"
   ]
  },
  {
   "cell_type": "code",
   "execution_count": 37,
   "id": "1d2e9221",
   "metadata": {},
   "outputs": [
    {
     "data": {
      "text/plain": [
       "0                  The Book Of Mormon\n",
       "1                            Hamilton\n",
       "2               The Elephant Man 2014\n",
       "3      Hugh Jackman, Back On Broadway\n",
       "4                        The Audience\n",
       "                    ...              \n",
       "815                       Tartuffe 96\n",
       "816            Street Corner Symphony\n",
       "817               Buttons On Broadway\n",
       "818     The Blonde In The Thunderbird\n",
       "819            Danny Gans On Broadway\n",
       "Name: Show.Name, Length: 820, dtype: object"
      ]
     },
     "execution_count": 37,
     "metadata": {},
     "output_type": "execute_result"
    }
   ],
   "source": [
    "gross_attendance = broadway\n",
    "gross_attendance['Grossed Per Seat'] = gross_attendance['Gross']/gross_attendance['Attendance']\n",
    "gross_attendance = gross_attendance.sort_values(by = 'Grossed Per Seat', ascending=False)\n",
    "broadway_gross_seat_average = gross_attendance.groupby([\"Show.Name\"]).mean(\"Grossed Per Seat\")\n",
    "broadway_gross_seat = pd.Series(broadway_gross_seat_average.sort_values(by='Grossed Per Seat', ascending=False).index)\n",
    "broadway_gross_seat"
   ]
  },
  {
   "cell_type": "code",
   "execution_count": 38,
   "id": "fc307f0d",
   "metadata": {},
   "outputs": [
    {
     "data": {
      "text/html": [
       "<p><strong><pre style='display: inline;'>q4_2</pre></strong> passed! 💯</p>"
      ],
      "text/plain": [
       "q4_2 results: All test cases passed!"
      ]
     },
     "execution_count": 38,
     "metadata": {},
     "output_type": "execute_result"
    }
   ],
   "source": [
    "grader.check(\"q4_2\")"
   ]
  },
  {
   "cell_type": "markdown",
   "id": "2a77b481",
   "metadata": {},
   "source": [
    "#### Question 4.3\n",
    "\n",
    "Create a new variable representing date as a single continuous variable. This should combine year, month and day into a new column. Assume no leap years and that that there are 30.44 days per month. Call this variable `date_continuous`\n",
    "\n",
    "*Hint*: Think about how you can convert months into days and days into the same units as years. "
   ]
  },
  {
   "cell_type": "code",
   "execution_count": 47,
   "id": "de435a03-97f9-4532-8683-604d136faec1",
   "metadata": {
    "tags": []
   },
   "outputs": [],
   "source": [
    "#broadway"
   ]
  },
  {
   "cell_type": "code",
   "execution_count": 48,
   "id": "4cdb729b",
   "metadata": {},
   "outputs": [
    {
     "data": {
      "text/html": [
       "<div>\n",
       "<style scoped>\n",
       "    .dataframe tbody tr th:only-of-type {\n",
       "        vertical-align: middle;\n",
       "    }\n",
       "\n",
       "    .dataframe tbody tr th {\n",
       "        vertical-align: top;\n",
       "    }\n",
       "\n",
       "    .dataframe thead th {\n",
       "        text-align: right;\n",
       "    }\n",
       "</style>\n",
       "<table border=\"1\" class=\"dataframe\">\n",
       "  <thead>\n",
       "    <tr style=\"text-align: right;\">\n",
       "      <th></th>\n",
       "      <th>Show.Name</th>\n",
       "      <th>date_continuous</th>\n",
       "    </tr>\n",
       "  </thead>\n",
       "  <tbody>\n",
       "    <tr>\n",
       "      <th>0</th>\n",
       "      <td>Tru</td>\n",
       "      <td>1990.26952</td>\n",
       "    </tr>\n",
       "    <tr>\n",
       "      <th>1</th>\n",
       "      <td>Miss Saigon</td>\n",
       "      <td>1991.11532</td>\n",
       "    </tr>\n",
       "    <tr>\n",
       "      <th>2</th>\n",
       "      <td>Miss Saigon</td>\n",
       "      <td>1991.12232</td>\n",
       "    </tr>\n",
       "    <tr>\n",
       "      <th>3</th>\n",
       "      <td>Miss Saigon</td>\n",
       "      <td>1991.12876</td>\n",
       "    </tr>\n",
       "    <tr>\n",
       "      <th>4</th>\n",
       "      <td>Miss Saigon</td>\n",
       "      <td>1991.13576</td>\n",
       "    </tr>\n",
       "    <tr>\n",
       "      <th>...</th>\n",
       "      <td>...</td>\n",
       "      <td>...</td>\n",
       "    </tr>\n",
       "    <tr>\n",
       "      <th>31291</th>\n",
       "      <td>The Humans</td>\n",
       "      <td>2016.25752</td>\n",
       "    </tr>\n",
       "    <tr>\n",
       "      <th>31292</th>\n",
       "      <td>The Lion King</td>\n",
       "      <td>2016.25752</td>\n",
       "    </tr>\n",
       "    <tr>\n",
       "      <th>31293</th>\n",
       "      <td>The Phantom Of The Opera</td>\n",
       "      <td>2016.25752</td>\n",
       "    </tr>\n",
       "    <tr>\n",
       "      <th>31294</th>\n",
       "      <td>Waitress</td>\n",
       "      <td>2016.25752</td>\n",
       "    </tr>\n",
       "    <tr>\n",
       "      <th>31295</th>\n",
       "      <td>Wicked</td>\n",
       "      <td>2016.25752</td>\n",
       "    </tr>\n",
       "  </tbody>\n",
       "</table>\n",
       "<p>31296 rows × 2 columns</p>\n",
       "</div>"
      ],
      "text/plain": [
       "                      Show.Name  date_continuous\n",
       "0                           Tru       1990.26952\n",
       "1                   Miss Saigon       1991.11532\n",
       "2                   Miss Saigon       1991.12232\n",
       "3                   Miss Saigon       1991.12876\n",
       "4                   Miss Saigon       1991.13576\n",
       "...                         ...              ...\n",
       "31291                The Humans       2016.25752\n",
       "31292             The Lion King       2016.25752\n",
       "31293  The Phantom Of The Opera       2016.25752\n",
       "31294                  Waitress       2016.25752\n",
       "31295                    Wicked       2016.25752\n",
       "\n",
       "[31296 rows x 2 columns]"
      ]
     },
     "execution_count": 48,
     "metadata": {},
     "output_type": "execute_result"
    }
   ],
   "source": [
    "broadway[\"date_continuous\"] = (broadway['Year'])+(broadway['Day']/1000 + (broadway['Month']*30.44)/1000)#.round(3)#loses precision\n",
    "broadway[[\"Show.Name\",\"date_continuous\"]]"
   ]
  },
  {
   "cell_type": "code",
   "execution_count": 49,
   "id": "6d1c31cf",
   "metadata": {},
   "outputs": [
    {
     "data": {
      "text/html": [
       "<p><strong><pre style='display: inline;'>q4_3</pre></strong> passed! 💯</p>"
      ],
      "text/plain": [
       "q4_3 results: All test cases passed!"
      ]
     },
     "execution_count": 49,
     "metadata": {},
     "output_type": "execute_result"
    }
   ],
   "source": [
    "grader.check(\"q4_3\")"
   ]
  },
  {
   "cell_type": "markdown",
   "id": "43b8a6cc",
   "metadata": {},
   "source": [
    "With this variable created, we can now identify the show that has had the longest tenure on Broadway. To do this, we'll define our own function called `span`, which will return the difference between the max and minimum of a series. Using this function, we can find the length of time each show spent on Broadway and identify the longest running plays."
   ]
  },
  {
   "cell_type": "code",
   "execution_count": 50,
   "id": "92c1185f",
   "metadata": {},
   "outputs": [],
   "source": [
    "def span(series):\n",
    "    return max(series) - min(series)"
   ]
  },
  {
   "cell_type": "code",
   "execution_count": 51,
   "id": "000876f4",
   "metadata": {},
   "outputs": [
    {
     "data": {
      "text/html": [
       "<div>\n",
       "<style scoped>\n",
       "    .dataframe tbody tr th:only-of-type {\n",
       "        vertical-align: middle;\n",
       "    }\n",
       "\n",
       "    .dataframe tbody tr th {\n",
       "        vertical-align: top;\n",
       "    }\n",
       "\n",
       "    .dataframe thead th {\n",
       "        text-align: right;\n",
       "    }\n",
       "</style>\n",
       "<table border=\"1\" class=\"dataframe\">\n",
       "  <thead>\n",
       "    <tr style=\"text-align: right;\">\n",
       "      <th></th>\n",
       "      <th>Show.Name</th>\n",
       "      <th>total_tenure_years</th>\n",
       "    </tr>\n",
       "  </thead>\n",
       "  <tbody>\n",
       "    <tr>\n",
       "      <th>708</th>\n",
       "      <td>The Phantom Of The Opera</td>\n",
       "      <td>20.07288</td>\n",
       "    </tr>\n",
       "    <tr>\n",
       "      <th>155</th>\n",
       "      <td>Chicago</td>\n",
       "      <td>19.92612</td>\n",
       "    </tr>\n",
       "    <tr>\n",
       "      <th>682</th>\n",
       "      <td>The Lion King</td>\n",
       "      <td>18.93412</td>\n",
       "    </tr>\n",
       "    <tr>\n",
       "      <th>415</th>\n",
       "      <td>Mamma Mia!</td>\n",
       "      <td>13.97556</td>\n",
       "    </tr>\n",
       "    <tr>\n",
       "      <th>105</th>\n",
       "      <td>Beauty And The Beast</td>\n",
       "      <td>13.13776</td>\n",
       "    </tr>\n",
       "  </tbody>\n",
       "</table>\n",
       "</div>"
      ],
      "text/plain": [
       "                    Show.Name  total_tenure_years\n",
       "708  The Phantom Of The Opera            20.07288\n",
       "155                   Chicago            19.92612\n",
       "682             The Lion King            18.93412\n",
       "415                Mamma Mia!            13.97556\n",
       "105      Beauty And The Beast            13.13776"
      ]
     },
     "execution_count": 51,
     "metadata": {},
     "output_type": "execute_result"
    }
   ],
   "source": [
    "broadway_length = (broadway[[\"Show.Name\", \"date_continuous\"]]\n",
    "                   .groupby(\"Show.Name\")\n",
    "                   .agg(span)\n",
    "                   .reset_index()\n",
    "                   .rename({\"date_continuous\":\"total_tenure_years\"}, axis = 1)\n",
    "                   .sort_values(\"total_tenure_years\", ascending = False)\n",
    "                  )\n",
    "\n",
    "broadway_length.head()"
   ]
  },
  {
   "cell_type": "markdown",
   "id": "23ed8b5d",
   "metadata": {},
   "source": [
    "#### Question 4.4"
   ]
  },
  {
   "cell_type": "markdown",
   "id": "f0acb22f",
   "metadata": {},
   "source": [
    "This is some handy information and we might find it useful to include the total tenure of a show in the original dataframe. Join the total tenure you just determined on the original broadway frame using the `merge` function, ensuring that the new column is called \"total_tenure_years\". Be sure that there is no information lost from the original dataframe in your new, joined dataframe. \n",
    "\n",
    "You should reference the help file for merge if you need guidance (`help(pd.merge)`). "
   ]
  },
  {
   "cell_type": "code",
   "execution_count": 52,
   "id": "47976b4a",
   "metadata": {
    "scrolled": true
   },
   "outputs": [
    {
     "data": {
      "text/html": [
       "<div>\n",
       "<style scoped>\n",
       "    .dataframe tbody tr th:only-of-type {\n",
       "        vertical-align: middle;\n",
       "    }\n",
       "\n",
       "    .dataframe tbody tr th {\n",
       "        vertical-align: top;\n",
       "    }\n",
       "\n",
       "    .dataframe thead th {\n",
       "        text-align: right;\n",
       "    }\n",
       "</style>\n",
       "<table border=\"1\" class=\"dataframe\">\n",
       "  <thead>\n",
       "    <tr style=\"text-align: right;\">\n",
       "      <th></th>\n",
       "      <th>Day</th>\n",
       "      <th>Month</th>\n",
       "      <th>Year</th>\n",
       "      <th>Show.Name</th>\n",
       "      <th>Theatre</th>\n",
       "      <th>Show.Type</th>\n",
       "      <th>Attendance</th>\n",
       "      <th>Capacity</th>\n",
       "      <th>Gross</th>\n",
       "      <th>Gross Potential</th>\n",
       "      <th>Performances</th>\n",
       "      <th>Grossed Per Seat</th>\n",
       "      <th>date_continuous</th>\n",
       "      <th>total_tenure_years</th>\n",
       "    </tr>\n",
       "  </thead>\n",
       "  <tbody>\n",
       "    <tr>\n",
       "      <th>0</th>\n",
       "      <td>26</td>\n",
       "      <td>8</td>\n",
       "      <td>1990</td>\n",
       "      <td>Tru</td>\n",
       "      <td>Booth</td>\n",
       "      <td>Play</td>\n",
       "      <td>5500</td>\n",
       "      <td>88</td>\n",
       "      <td>134456</td>\n",
       "      <td>0</td>\n",
       "      <td>8</td>\n",
       "      <td>24.446545</td>\n",
       "      <td>1990.26952</td>\n",
       "      <td>0.00000</td>\n",
       "    </tr>\n",
       "    <tr>\n",
       "      <th>1</th>\n",
       "      <td>24</td>\n",
       "      <td>3</td>\n",
       "      <td>1991</td>\n",
       "      <td>Miss Saigon</td>\n",
       "      <td>Broadway</td>\n",
       "      <td>Musical</td>\n",
       "      <td>1737</td>\n",
       "      <td>100</td>\n",
       "      <td>100647</td>\n",
       "      <td>0</td>\n",
       "      <td>0</td>\n",
       "      <td>57.943005</td>\n",
       "      <td>1991.11532</td>\n",
       "      <td>9.94312</td>\n",
       "    </tr>\n",
       "    <tr>\n",
       "      <th>2</th>\n",
       "      <td>31</td>\n",
       "      <td>3</td>\n",
       "      <td>1991</td>\n",
       "      <td>Miss Saigon</td>\n",
       "      <td>Broadway</td>\n",
       "      <td>Musical</td>\n",
       "      <td>12160</td>\n",
       "      <td>100</td>\n",
       "      <td>634424</td>\n",
       "      <td>0</td>\n",
       "      <td>0</td>\n",
       "      <td>52.173026</td>\n",
       "      <td>1991.12232</td>\n",
       "      <td>9.94312</td>\n",
       "    </tr>\n",
       "    <tr>\n",
       "      <th>3</th>\n",
       "      <td>7</td>\n",
       "      <td>4</td>\n",
       "      <td>1991</td>\n",
       "      <td>Miss Saigon</td>\n",
       "      <td>Broadway</td>\n",
       "      <td>Musical</td>\n",
       "      <td>13921</td>\n",
       "      <td>100</td>\n",
       "      <td>713353</td>\n",
       "      <td>0</td>\n",
       "      <td>0</td>\n",
       "      <td>51.242942</td>\n",
       "      <td>1991.12876</td>\n",
       "      <td>9.94312</td>\n",
       "    </tr>\n",
       "    <tr>\n",
       "      <th>4</th>\n",
       "      <td>14</td>\n",
       "      <td>4</td>\n",
       "      <td>1991</td>\n",
       "      <td>Miss Saigon</td>\n",
       "      <td>Broadway</td>\n",
       "      <td>Musical</td>\n",
       "      <td>10973</td>\n",
       "      <td>90</td>\n",
       "      <td>573981</td>\n",
       "      <td>0</td>\n",
       "      <td>4</td>\n",
       "      <td>52.308484</td>\n",
       "      <td>1991.13576</td>\n",
       "      <td>9.94312</td>\n",
       "    </tr>\n",
       "  </tbody>\n",
       "</table>\n",
       "</div>"
      ],
      "text/plain": [
       "   Day  Month  Year    Show.Name   Theatre Show.Type  Attendance  Capacity  \\\n",
       "0   26      8  1990          Tru     Booth      Play        5500        88   \n",
       "1   24      3  1991  Miss Saigon  Broadway   Musical        1737       100   \n",
       "2   31      3  1991  Miss Saigon  Broadway   Musical       12160       100   \n",
       "3    7      4  1991  Miss Saigon  Broadway   Musical       13921       100   \n",
       "4   14      4  1991  Miss Saigon  Broadway   Musical       10973        90   \n",
       "\n",
       "    Gross  Gross Potential  Performances  Grossed Per Seat  date_continuous  \\\n",
       "0  134456                0             8         24.446545       1990.26952   \n",
       "1  100647                0             0         57.943005       1991.11532   \n",
       "2  634424                0             0         52.173026       1991.12232   \n",
       "3  713353                0             0         51.242942       1991.12876   \n",
       "4  573981                0             4         52.308484       1991.13576   \n",
       "\n",
       "   total_tenure_years  \n",
       "0             0.00000  \n",
       "1             9.94312  \n",
       "2             9.94312  \n",
       "3             9.94312  \n",
       "4             9.94312  "
      ]
     },
     "execution_count": 52,
     "metadata": {},
     "output_type": "execute_result"
    }
   ],
   "source": [
    "broadway_merged = broadway.merge(broadway_length, left_on='Show.Name', right_on='Show.Name')\n",
    "broadway_merged.head()"
   ]
  },
  {
   "cell_type": "code",
   "execution_count": 53,
   "id": "6ced5465",
   "metadata": {},
   "outputs": [
    {
     "data": {
      "text/html": [
       "<p><strong><pre style='display: inline;'>q4_4</pre></strong> passed! 🍀</p>"
      ],
      "text/plain": [
       "q4_4 results: All test cases passed!"
      ]
     },
     "execution_count": 53,
     "metadata": {},
     "output_type": "execute_result"
    }
   ],
   "source": [
    "grader.check(\"q4_4\")"
   ]
  },
  {
   "cell_type": "markdown",
   "id": "43834c64",
   "metadata": {},
   "source": [
    "## Submission\n",
    "\n",
    "Make sure you have run all cells in your notebook in order. Then execute the following two commands from the File menu:\n",
    "\n",
    "* Save and Checkpoint\n",
    "* Close and Halt\n",
    "\n",
    "Then upload your .ipynb file to Canvas assignment HW12"
   ]
  },
  {
   "cell_type": "markdown",
   "id": "46bdddd5",
   "metadata": {},
   "source": [
    "To double-check your work, the cell below will rerun all of the autograder tests."
   ]
  },
  {
   "cell_type": "code",
   "execution_count": 54,
   "id": "27a4f62c",
   "metadata": {},
   "outputs": [
    {
     "data": {
      "text/plain": [
       "q1_1 results: All test cases passed!\n",
       "\n",
       "q1_2 results: All test cases passed!\n",
       "\n",
       "q1_3 results: All test cases passed!\n",
       "\n",
       "q2_1 results: All test cases passed!\n",
       "\n",
       "q2_2 results: All test cases passed!\n",
       "\n",
       "q2_3 results: All test cases passed!\n",
       "\n",
       "q2_4 results: All test cases passed!\n",
       "\n",
       "q2_5 results: All test cases passed!\n",
       "\n",
       "q3_1 results: All test cases passed!\n",
       "\n",
       "q3_2 results: All test cases passed!\n",
       "\n",
       "q3_3 results: All test cases passed!\n",
       "\n",
       "q3_4 results: All test cases passed!\n",
       "\n",
       "q3_5 results: All test cases passed!\n",
       "\n",
       "q4_1 results: All test cases passed!\n",
       "\n",
       "q4_2 results: All test cases passed!\n",
       "\n",
       "q4_3 results: All test cases passed!\n",
       "\n",
       "q4_4 results: All test cases passed!"
      ]
     },
     "execution_count": 54,
     "metadata": {},
     "output_type": "execute_result"
    }
   ],
   "source": [
    "grader.check_all()"
   ]
  },
  {
   "cell_type": "code",
   "execution_count": null,
   "id": "4babdd83-be2a-4702-ae74-44dfb78eace2",
   "metadata": {},
   "outputs": [],
   "source": []
  }
 ],
 "metadata": {
  "kernelspec": {
   "display_name": "Python 3 (ipykernel)",
   "language": "python",
   "name": "python3"
  },
  "language_info": {
   "codemirror_mode": {
    "name": "ipython",
    "version": 3
   },
   "file_extension": ".py",
   "mimetype": "text/x-python",
   "name": "python",
   "nbconvert_exporter": "python",
   "pygments_lexer": "ipython3",
   "version": "3.10.9"
  }
 },
 "nbformat": 4,
 "nbformat_minor": 5
}
