{
 "cells": [
  {
   "cell_type": "markdown",
   "id": "c5a02712",
   "metadata": {},
   "source": [
    "# Lab 14: K Nearest Neighbors"
   ]
  },
  {
   "cell_type": "code",
   "execution_count": 63,
   "id": "58ec9f3c",
   "metadata": {
    "tags": []
   },
   "outputs": [],
   "source": [
    "# Don't change this cell; just run it. \n",
    "import numpy as np\n",
    "import pandas as pd\n",
    "\n",
    "# These lines do some fancy plotting magic.\n",
    "import matplotlib\n",
    "%matplotlib inline\n",
    "import matplotlib.pyplot as plt\n",
    "plt.style.use('fivethirtyeight')\n",
    "import seaborn as sns\n",
    "import warnings\n",
    "warnings.simplefilter('ignore', FutureWarning)\n",
    "\n",
    "import otter\n",
    "grader = otter.Notebook()"
   ]
  },
  {
   "cell_type": "markdown",
   "id": "bf1719b9",
   "metadata": {},
   "source": [
    "Please complete this notebook by filling in the cells provided. Before you begin, execute the following cell to load the provided tests. Each time you start your server, you will need to execute this cell again to load the tests.\n",
    "\n",
    "This assignment is due by **11:59pm on the due date listed in Canvas**. Start early so that you can come to office hours if you're stuck. Check Canvas for the office hours schedule. Late work will not be accepted as per the policies described in the Canvas syllabus. \n",
    "\n",
    "Directly sharing answers is not okay, but discussing problems with the course staff or with other students is encouraged. Refer to the policies page to learn more about how to learn cooperatively.\n",
    "\n",
    "For all problems that you must write our explanations and sentences for, you **must** provide your answer in the designated space. Moreover, throughout this homework and all future ones, please be sure to not re-assign variables throughout the notebook! For example, if you use `max_temperature` in your answer to one question, do not reassign it later on."
   ]
  },
  {
   "cell_type": "markdown",
   "id": "acb1d103",
   "metadata": {},
   "source": [
    "## Diabetes classification"
   ]
  },
  {
   "cell_type": "markdown",
   "id": "f9bc5d83",
   "metadata": {},
   "source": [
    "An exceptionally useful application of classification methods is the identification of individuals at high risk of certains illnesses/diseases. Physicians use software that implement such algorithms to help guide their evaluation of their patients, as classification models can use multivariate information in ways that are difficult for the human brain to account for. \n",
    "\n",
    "Here we'll use only two variables, blood glucose and blood pressure, to classify an individual as having diabetes or not. "
   ]
  },
  {
   "cell_type": "code",
   "execution_count": 64,
   "id": "b42043b9",
   "metadata": {},
   "outputs": [
    {
     "data": {
      "text/html": [
       "<div>\n",
       "<style scoped>\n",
       "    .dataframe tbody tr th:only-of-type {\n",
       "        vertical-align: middle;\n",
       "    }\n",
       "\n",
       "    .dataframe tbody tr th {\n",
       "        vertical-align: top;\n",
       "    }\n",
       "\n",
       "    .dataframe thead th {\n",
       "        text-align: right;\n",
       "    }\n",
       "</style>\n",
       "<table border=\"1\" class=\"dataframe\">\n",
       "  <thead>\n",
       "    <tr style=\"text-align: right;\">\n",
       "      <th></th>\n",
       "      <th>Pregnancies</th>\n",
       "      <th>Glucose</th>\n",
       "      <th>BloodPressure</th>\n",
       "      <th>SkinThickness</th>\n",
       "      <th>Insulin</th>\n",
       "      <th>BMI</th>\n",
       "      <th>DiabetesPedigreeFunction</th>\n",
       "      <th>Age</th>\n",
       "      <th>Outcome</th>\n",
       "    </tr>\n",
       "  </thead>\n",
       "  <tbody>\n",
       "    <tr>\n",
       "      <th>0</th>\n",
       "      <td>6</td>\n",
       "      <td>148</td>\n",
       "      <td>72</td>\n",
       "      <td>35</td>\n",
       "      <td>0</td>\n",
       "      <td>33.6</td>\n",
       "      <td>0.627</td>\n",
       "      <td>50</td>\n",
       "      <td>1</td>\n",
       "    </tr>\n",
       "    <tr>\n",
       "      <th>1</th>\n",
       "      <td>1</td>\n",
       "      <td>85</td>\n",
       "      <td>66</td>\n",
       "      <td>29</td>\n",
       "      <td>0</td>\n",
       "      <td>26.6</td>\n",
       "      <td>0.351</td>\n",
       "      <td>31</td>\n",
       "      <td>0</td>\n",
       "    </tr>\n",
       "    <tr>\n",
       "      <th>2</th>\n",
       "      <td>8</td>\n",
       "      <td>183</td>\n",
       "      <td>64</td>\n",
       "      <td>0</td>\n",
       "      <td>0</td>\n",
       "      <td>23.3</td>\n",
       "      <td>0.672</td>\n",
       "      <td>32</td>\n",
       "      <td>1</td>\n",
       "    </tr>\n",
       "    <tr>\n",
       "      <th>3</th>\n",
       "      <td>1</td>\n",
       "      <td>89</td>\n",
       "      <td>66</td>\n",
       "      <td>23</td>\n",
       "      <td>94</td>\n",
       "      <td>28.1</td>\n",
       "      <td>0.167</td>\n",
       "      <td>21</td>\n",
       "      <td>0</td>\n",
       "    </tr>\n",
       "    <tr>\n",
       "      <th>4</th>\n",
       "      <td>0</td>\n",
       "      <td>137</td>\n",
       "      <td>40</td>\n",
       "      <td>35</td>\n",
       "      <td>168</td>\n",
       "      <td>43.1</td>\n",
       "      <td>2.288</td>\n",
       "      <td>33</td>\n",
       "      <td>1</td>\n",
       "    </tr>\n",
       "  </tbody>\n",
       "</table>\n",
       "</div>"
      ],
      "text/plain": [
       "   Pregnancies  Glucose  BloodPressure  SkinThickness  Insulin   BMI  \\\n",
       "0            6      148             72             35        0  33.6   \n",
       "1            1       85             66             29        0  26.6   \n",
       "2            8      183             64              0        0  23.3   \n",
       "3            1       89             66             23       94  28.1   \n",
       "4            0      137             40             35      168  43.1   \n",
       "\n",
       "   DiabetesPedigreeFunction  Age  Outcome  \n",
       "0                     0.627   50        1  \n",
       "1                     0.351   31        0  \n",
       "2                     0.672   32        1  \n",
       "3                     0.167   21        0  \n",
       "4                     2.288   33        1  "
      ]
     },
     "execution_count": 64,
     "metadata": {},
     "output_type": "execute_result"
    }
   ],
   "source": [
    "# Read in the data\n",
    "db = pd.read_csv(\"diabetes.csv\")\n",
    "db.head()"
   ]
  },
  {
   "cell_type": "code",
   "execution_count": 65,
   "id": "c491cb25-b249-4856-9c23-b235abe9fc45",
   "metadata": {
    "tags": []
   },
   "outputs": [],
   "source": [
    "#len(db[db['BloodPressure'] == 0])"
   ]
  },
  {
   "cell_type": "markdown",
   "id": "f77e7a8a",
   "metadata": {},
   "source": [
    "#### Question 1\n",
    "\n",
    "Plot the relationship between Glucose and BloodPressure. Change the color of the points by \"Outcome\"."
   ]
  },
  {
   "cell_type": "code",
   "execution_count": 66,
   "id": "06e1f85e",
   "metadata": {},
   "outputs": [
    {
     "data": {
      "text/plain": [
       "<seaborn.axisgrid.FacetGrid at 0x7fd155766650>"
      ]
     },
     "execution_count": 66,
     "metadata": {},
     "output_type": "execute_result"
    },
    {
     "data": {
      "image/png": "[encoded data removed]",
      "text/plain": [
       "<Figure size 604.431x500 with 1 Axes>"
      ]
     },
     "metadata": {},
     "output_type": "display_data"
    }
   ],
   "source": [
    "sns.relplot(x='Glucose', y='BloodPressure', data=db, hue='Outcome')"
   ]
  },
  {
   "cell_type": "markdown",
   "id": "34ad0707",
   "metadata": {},
   "source": [
    "#### Question 2\n",
    "\n",
    "Many of the individuals in the data have a systolic blood pressure of 0! It is doubtful that these individuals have diabetes, so remove these points from the data. "
   ]
  },
  {
   "cell_type": "code",
   "execution_count": 67,
   "id": "c3b362b7",
   "metadata": {},
   "outputs": [],
   "source": [
    "db_clean = db[db['BloodPressure'] != 0]"
   ]
  },
  {
   "cell_type": "code",
   "execution_count": 68,
   "id": "8830b8d0",
   "metadata": {
    "scrolled": true
   },
   "outputs": [
    {
     "data": {
      "text/html": [
       "<p><strong><pre style='display: inline;'>q1_2</pre></strong> passed! 🙌</p>"
      ],
      "text/plain": [
       "q1_2 results: All test cases passed!"
      ]
     },
     "execution_count": 68,
     "metadata": {},
     "output_type": "execute_result"
    }
   ],
   "source": [
    "grader.check(\"q1_2\")"
   ]
  },
  {
   "cell_type": "markdown",
   "id": "57152728",
   "metadata": {},
   "source": [
    "Our eventual goal is to classify a new observation as either outcome 0 (no diabetes) or outcome 1 (diabetes). The first step in doing this is to define a function that will calculate the Euclidian distance between two points. "
   ]
  },
  {
   "cell_type": "markdown",
   "id": "e20c141c",
   "metadata": {},
   "source": [
    "#### Question 3\n",
    "\n",
    "Define the function `distance` that takes two arguments, each a row from a DataFrame. The function should convert each row to a numpy array and then calculate the distance between the points. Remember that the distance between 2 points with 2 variables is\n",
    "\n",
    "$$dist = \\sqrt{(x_1 - x_2)^2 + (y_1 - y_2)^2} $$\n",
    "\n",
    "though your function should be able to find the distance between two points with any number of variables."
   ]
  },
  {
   "cell_type": "code",
   "execution_count": 69,
   "id": "5980c77c",
   "metadata": {},
   "outputs": [
    {
     "data": {
      "text/plain": [
       "66.91095706982526"
      ]
     },
     "execution_count": 69,
     "metadata": {},
     "output_type": "execute_result"
    }
   ],
   "source": [
    "def distance(arr1, arr2):\n",
    "    return np.sqrt(np.sum((arr1 - arr2)**2)) # keep in mind this is the pythagorean theorum!\n",
    "\n",
    "distance(db_clean.iloc[0,:], db_clean.iloc[1,:])"
   ]
  },
  {
   "cell_type": "code",
   "execution_count": 70,
   "id": "2f2c78c5",
   "metadata": {},
   "outputs": [
    {
     "data": {
      "text/html": [
       "<p><strong><pre style='display: inline;'>q1_3</pre></strong> passed! 🌟</p>"
      ],
      "text/plain": [
       "q1_3 results: All test cases passed!"
      ]
     },
     "execution_count": 70,
     "metadata": {},
     "output_type": "execute_result"
    }
   ],
   "source": [
    "grader.check(\"q1_3\")"
   ]
  },
  {
   "cell_type": "markdown",
   "id": "71ac2ee3",
   "metadata": {},
   "source": [
    "#### Question 4\n",
    "\n",
    "Calculate the distance between the point (x = 150,y = 60) and every other point in the `db_clean` using your distance function and save the output in an array called `distances`. You should only be calculating the distance using the two variables we plotted: x = `Glocose` and y = `BloodPressure` **in that order**."
   ]
  },
  {
   "cell_type": "code",
   "execution_count": 71,
   "id": "47478418",
   "metadata": {},
   "outputs": [],
   "source": [
    "# We'll reset the index to ensure our row indices add up to the length of our DataFrame.\n",
    "db_clean = db_clean.reset_index()"
   ]
  },
  {
   "cell_type": "code",
   "execution_count": 72,
   "id": "74e1e197",
   "metadata": {
    "scrolled": true
   },
   "outputs": [
    {
     "data": {
      "text/html": [
       "<div>\n",
       "<style scoped>\n",
       "    .dataframe tbody tr th:only-of-type {\n",
       "        vertical-align: middle;\n",
       "    }\n",
       "\n",
       "    .dataframe tbody tr th {\n",
       "        vertical-align: top;\n",
       "    }\n",
       "\n",
       "    .dataframe thead th {\n",
       "        text-align: right;\n",
       "    }\n",
       "</style>\n",
       "<table border=\"1\" class=\"dataframe\">\n",
       "  <thead>\n",
       "    <tr style=\"text-align: right;\">\n",
       "      <th></th>\n",
       "      <th>index</th>\n",
       "      <th>Pregnancies</th>\n",
       "      <th>Glucose</th>\n",
       "      <th>BloodPressure</th>\n",
       "      <th>SkinThickness</th>\n",
       "      <th>Insulin</th>\n",
       "      <th>BMI</th>\n",
       "      <th>DiabetesPedigreeFunction</th>\n",
       "      <th>Age</th>\n",
       "      <th>Outcome</th>\n",
       "      <th>distances</th>\n",
       "    </tr>\n",
       "  </thead>\n",
       "  <tbody>\n",
       "    <tr>\n",
       "      <th>0</th>\n",
       "      <td>0</td>\n",
       "      <td>6</td>\n",
       "      <td>148</td>\n",
       "      <td>72</td>\n",
       "      <td>35</td>\n",
       "      <td>0</td>\n",
       "      <td>33.6</td>\n",
       "      <td>0.627</td>\n",
       "      <td>50</td>\n",
       "      <td>1</td>\n",
       "      <td>12.165525</td>\n",
       "    </tr>\n",
       "    <tr>\n",
       "      <th>1</th>\n",
       "      <td>1</td>\n",
       "      <td>1</td>\n",
       "      <td>85</td>\n",
       "      <td>66</td>\n",
       "      <td>29</td>\n",
       "      <td>0</td>\n",
       "      <td>26.6</td>\n",
       "      <td>0.351</td>\n",
       "      <td>31</td>\n",
       "      <td>0</td>\n",
       "      <td>65.276336</td>\n",
       "    </tr>\n",
       "    <tr>\n",
       "      <th>2</th>\n",
       "      <td>2</td>\n",
       "      <td>8</td>\n",
       "      <td>183</td>\n",
       "      <td>64</td>\n",
       "      <td>0</td>\n",
       "      <td>0</td>\n",
       "      <td>23.3</td>\n",
       "      <td>0.672</td>\n",
       "      <td>32</td>\n",
       "      <td>1</td>\n",
       "      <td>33.241540</td>\n",
       "    </tr>\n",
       "    <tr>\n",
       "      <th>3</th>\n",
       "      <td>3</td>\n",
       "      <td>1</td>\n",
       "      <td>89</td>\n",
       "      <td>66</td>\n",
       "      <td>23</td>\n",
       "      <td>94</td>\n",
       "      <td>28.1</td>\n",
       "      <td>0.167</td>\n",
       "      <td>21</td>\n",
       "      <td>0</td>\n",
       "      <td>61.294372</td>\n",
       "    </tr>\n",
       "    <tr>\n",
       "      <th>4</th>\n",
       "      <td>4</td>\n",
       "      <td>0</td>\n",
       "      <td>137</td>\n",
       "      <td>40</td>\n",
       "      <td>35</td>\n",
       "      <td>168</td>\n",
       "      <td>43.1</td>\n",
       "      <td>2.288</td>\n",
       "      <td>33</td>\n",
       "      <td>1</td>\n",
       "      <td>23.853721</td>\n",
       "    </tr>\n",
       "  </tbody>\n",
       "</table>\n",
       "</div>"
      ],
      "text/plain": [
       "   index  Pregnancies  Glucose  BloodPressure  SkinThickness  Insulin   BMI  \\\n",
       "0      0            6      148             72             35        0  33.6   \n",
       "1      1            1       85             66             29        0  26.6   \n",
       "2      2            8      183             64              0        0  23.3   \n",
       "3      3            1       89             66             23       94  28.1   \n",
       "4      4            0      137             40             35      168  43.1   \n",
       "\n",
       "   DiabetesPedigreeFunction  Age  Outcome  distances  \n",
       "0                     0.627   50        1  12.165525  \n",
       "1                     0.351   31        0  65.276336  \n",
       "2                     0.672   32        1  33.241540  \n",
       "3                     0.167   21        0  61.294372  \n",
       "4                     2.288   33        1  23.853721  "
      ]
     },
     "execution_count": 72,
     "metadata": {},
     "output_type": "execute_result"
    }
   ],
   "source": [
    "distances = np.empty(0)\n",
    "\n",
    "# use this point to go through the array\n",
    "point = np.array([150, 60])\n",
    "\n",
    "# parce through the array\n",
    "for i in range(len(db_clean)):\n",
    "    dist_to_add = distance(point, np.array(db_clean[['Glucose', 'BloodPressure']].iloc[i, :]))\n",
    "    distances = np.append(distances, dist_to_add)\n",
    "\n",
    "db_clean[\"distances\"] = distances\n",
    "db_clean.head()"
   ]
  },
  {
   "cell_type": "code",
   "execution_count": 73,
   "id": "4a15d47b",
   "metadata": {},
   "outputs": [
    {
     "data": {
      "text/html": [
       "<p><strong><pre style='display: inline;'>q1_4</pre></strong> passed! ✨</p>"
      ],
      "text/plain": [
       "q1_4 results: All test cases passed!"
      ]
     },
     "execution_count": 73,
     "metadata": {},
     "output_type": "execute_result"
    }
   ],
   "source": [
    "grader.check(\"q1_4\")"
   ]
  },
  {
   "cell_type": "markdown",
   "id": "9822eaa0",
   "metadata": {},
   "source": [
    "#### Question 5\n",
    "\n",
    "We're going to classify our new point using the 7 nearest neighbors. Identify the 7 closest points, count the `Outcome`s and, assign either 0 or 1 as the classification for our new point. "
   ]
  },
  {
   "cell_type": "code",
   "execution_count": 95,
   "id": "1d1603c3",
   "metadata": {},
   "outputs": [],
   "source": [
    "closest_7 = db_clean.sort_values('distances', ascending=True)['Outcome'].iloc[0:7]\n",
    "classification = closest_7.value_counts().sort_values(ascending = False).index[0]\n",
    "\n",
    "# will tell us if the outcome at this point is classified as a 0 or 1\n",
    "new_class7 = classification"
   ]
  },
  {
   "cell_type": "code",
   "execution_count": 93,
   "id": "a14fe861",
   "metadata": {},
   "outputs": [
    {
     "data": {
      "text/html": [
       "<p><strong><pre style='display: inline;'>q1_5</pre></strong> passed! 🚀</p>"
      ],
      "text/plain": [
       "q1_5 results: All test cases passed!"
      ]
     },
     "execution_count": 93,
     "metadata": {},
     "output_type": "execute_result"
    }
   ],
   "source": [
    "grader.check(\"q1_5\")"
   ]
  },
  {
   "cell_type": "markdown",
   "id": "7bee924b",
   "metadata": {},
   "source": [
    "#### Question 6\n",
    "\n",
    "By finding the class of the 7 nearest points and counting them, we were able to take a reasonable guess at the class of our newest point! In what ranges of x and y values to you expect our classifications to be most accurate, and what ranges do you expect the accuracy to approach 0.5, or a random guess. You can reference the figure you made above and/or try looking at the `Outcome` counts of different points to answer the question."
   ]
  },
  {
   "cell_type": "markdown",
   "id": "bff02889",
   "metadata": {},
   "source": [
    "I would say as K gets to be greater than 0.33 of the total values in the database, then the accuracy will began to fall to a random guess (0.5)."
   ]
  },
  {
   "cell_type": "markdown",
   "id": "2a4f70df",
   "metadata": {},
   "source": [
    "By classifying individuals in this way, we can identify patients that are at higher or lower risk of certain morbidities. This allows for proactive measures from the patient's physician, potentially improving their quality of care."
   ]
  },
  {
   "cell_type": "markdown",
   "id": "7896af12",
   "metadata": {},
   "source": [
    "You're done with Lab 14! Be sure to run the tests and verify that they all pass, then **Save** your changes, then **Download** your file to your host machine (if you are using jupyterhub), then submit your file to the Lab 14 assignment in **Canvas** by 11:59pm on the due date."
   ]
  }
 ],
 "metadata": {
  "kernelspec": {
   "display_name": "Python 3 (ipykernel)",
   "language": "python",
   "name": "python3"
  },
  "language_info": {
   "codemirror_mode": {
    "name": "ipython",
    "version": 3
   },
   "file_extension": ".py",
   "mimetype": "text/x-python",
   "name": "python",
   "nbconvert_exporter": "python",
   "pygments_lexer": "ipython3",
   "version": "3.10.9"
  }
 },
 "nbformat": 4,
 "nbformat_minor": 5
}
